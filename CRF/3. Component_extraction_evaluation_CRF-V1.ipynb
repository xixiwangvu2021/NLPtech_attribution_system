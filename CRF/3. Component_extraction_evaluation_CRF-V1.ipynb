{
 "cells": [
  {
   "cell_type": "markdown",
   "metadata": {},
   "source": [
    "# 3. Component_extraction_CRF\n",
    "\n",
    "To run and evaluate the CRF models."
   ]
  },
  {
   "cell_type": "code",
   "execution_count": null,
   "metadata": {},
   "outputs": [],
   "source": [
    "%pip install gensim\n",
    "!python -m gensim.scripts.glove2word2vec --input glove.6B.50d.txt --output glove.6B.50d.w2vformat.txt\n",
    "!python -m gensim.scripts.glove2word2vec --input glove.6B.100d.txt --output glove.6B.100d.w2vformat.txt"
   ]
  },
  {
   "cell_type": "code",
   "execution_count": null,
   "metadata": {},
   "outputs": [],
   "source": [
    "preprocessed_data=[\"polnear_with_BIO_dev.csv\", \"polnear_with_BIO_train.csv\",\n",
    "                   \"parc3_with_BIO_dev.csv\", \"parc3_with_BIO_train.csv\"\n",
    "                   \"merged_with_BIO_dev.csv\", \"merged_with_BIO_train.csv\",]\n",
    "filename_addition = '_extra_data.csv'"
   ]
  },
  {
   "cell_type": "markdown",
   "metadata": {},
   "source": [
    "# Train and run CRF models"
   ]
  },
  {
   "cell_type": "code",
   "execution_count": null,
   "metadata": {},
   "outputs": [],
   "source": [
    "import sklearn\n",
    "\n",
    "from sklearn import metrics\n",
    "from sklearn.metrics import classification_report\n",
    "\n",
    "from crf import CRF, FeaturesCRF, Features2CRF, Features3CRF, EmbeddingCRF\n",
    "\n",
    "# import os\n",
    "# cwd = os.getcwd()\n",
    "# print(cwd)"
   ]
  },
  {
   "cell_type": "code",
   "execution_count": null,
   "metadata": {},
   "outputs": [],
   "source": [
    "crf = CRF()\n",
    "crf.train_and_run_crf_model('polnear_with_BIO_train' + filename_addition,\n",
    "                            'polnear_with_BIO_dev' + filename_addition,\n",
    "                            'CRF_out_BIO_baseline_polnear-polnear.csv')"
   ]
  },
  {
   "cell_type": "code",
   "execution_count": null,
   "metadata": {},
   "outputs": [],
   "source": [
    "# Training with unlabeled sentences removed\n",
    "crf = CRF()\n",
    "crf.train_and_run_crf_model('polnear_with_BIO_train' + removed_filename_addition,\n",
    "                            'polnear_with_BIO_dev' + filename_addition,\n",
    "                            'CRF_out_BIO_baseline-removed_polnear-polnear.csv')"
   ]
  },
  {
   "cell_type": "code",
   "execution_count": null,
   "metadata": {},
   "outputs": [],
   "source": [
    "crf = FeaturesCRF()\n",
    "crf.train_and_run_crf_model('polnear_with_BIO_train' + filename_addition,\n",
    "                            'polnear_with_BIO_dev' + filename_addition,\n",
    "                            'CRF_out_BIO_features_polnear-polnear.csv')"
   ]
  },
  {
   "cell_type": "code",
   "execution_count": null,
   "metadata": {},
   "outputs": [],
   "source": [
    "crf = Features2CRF()\n",
    "crf.train_and_run_crf_model('polnear_with_BIO_train' + filename_addition,\n",
    "                            'polnear_with_BIO_dev' + filename_addition,\n",
    "                            'CRF_out_BIO_features2_polnear-polnear.csv')"
   ]
  },
  {
   "cell_type": "code",
   "execution_count": null,
   "metadata": {},
   "outputs": [],
   "source": [
    "crf = Features3CRF()\n",
    "crf.train_and_run_crf_model('polnear_with_BIO_train' + filename_addition,\n",
    "                            'polnear_with_BIO_dev' + filename_addition,\n",
    "                            'CRF_out_BIO_features3_polnear-polnear.csv')"
   ]
  },
  {
   "cell_type": "code",
   "execution_count": null,
   "metadata": {},
   "outputs": [],
   "source": [
    "crf = EmbeddingCRF(50)\n",
    "crf.train_and_run_crf_model('polnear_with_BIO_train' + filename_addition,\n",
    "                            'polnear_with_BIO_dev' + filename_addition,\n",
    "                            'CRF_out_BIO_embedding50_polnear-polnear.csv')"
   ]
  },
  {
   "cell_type": "code",
   "execution_count": null,
   "metadata": {},
   "outputs": [],
   "source": [
    "crf = EmbeddingCRF(100)\n",
    "crf.train_and_run_crf_model('polnear_with_BIO_train' + filename_addition,\n",
    "                            'polnear_with_BIO_dev' + filename_addition,\n",
    "                            'CRF_out_BIO_embedding100_polnear-polnear.csv')\n",
    "\n",
    "# Example features\n",
    "# {'bias': 1.0, 'token': 'mark', 'v0': 0.26736, 'v1': 0.18049, 'v2': -0.314, 'v3': -0.58327, 'v4': -0.23609, 'v5': -0.34614, 'v6': -0.1654, 'v7': -0.32759, \n",
    "# 'v8': -1.479, 'v9': -0.31961, 'v10': -0.27241, 'v11': -0.30492, 'v12': 0.44354, 'v13': 0.10112, 'v14': 0.33955, 'v15': -0.41747, 'v16': 0.44942, \n",
    "# 'v17': -0.035098, 'v18': -1.1154, 'v19': 0.46818, 'v20': 0.84366, 'v21': 0.040854, 'v22': 0.30347, 'v23': 0.50844, 'v24': 1.1786, 'v25': 0.034765, \n",
    "# 'v26': 0.16056, 'v27': -0.63163, 'v28': 0.33688, 'v29': 0.14631, 'v30': -0.42875, 'v31': 0.2888, 'v32': 0.00062319, 'v33': 0.87847, 'v34': 0.31677, \n",
    "# 'v35': -0.68571, 'v36': -0.057479, 'v37': 0.23021, 'v38': -0.04874, 'v39': 0.16405, 'v40': 0.2489, 'v41': -0.77387, 'v42': 0.39342, 'v43': 0.70581, \n",
    "# 'v44': -0.61186, 'v45': -0.25623, 'v46': 0.14624, 'v47': -0.78911, 'v48': -0.071785, 'v49': -1.2844, 'v50': 1.1634, 'v51': -0.28015, 'v52': 0.032799, \n",
    "# 'v53': 0.45011, 'v54': -0.20363, 'v55': -2.4238, 'v56': -0.69491, 'v57': 0.64105, 'v58': 0.99553, 'v59': 0.049622, 'v60': 0.043249, 'v61': 0.499, \n",
    "# 'v62': 0.019314, 'v63': 0.070149, 'v64': -0.036043, 'v65': -0.60366, 'v66': 0.57625, 'v67': 0.64738, 'v68': 0.4857, 'v69': -0.088133, 'v70': -0.0072429,\n",
    "# 'v71': 0.5134, 'v72': -0.99625, 'v73': -0.60808, 'v74': 1.0536, 'v75': -0.49266, 'v76': -0.26202, 'v77': -0.006042, 'v78': -0.25483, 'v79': 0.5442, \n",
    "# 'v80': 0.40837, 'v81': 0.11222, 'v82': 0.14556, 'v83': -0.68029, 'v84': -0.58866, 'v85': -0.097334, 'v86': -0.19981, 'v87': -0.4306, 'v88': 0.8099, \n",
    "# 'v89': 0.1809, 'v90': -0.30745, 'v91': 0.7425, 'v92': 0.079075, 'v93': 0.52299, 'v94': -0.6159, 'v95': -0.20503, 'v96': 0.41337, 'v97': 0.070152, \n",
    "# 'v98': -0.66364, 'v99': -0.4607, 'BOS': True}"
   ]
  },
  {
   "cell_type": "markdown",
   "metadata": {},
   "source": [
    "First the general evaluation function"
   ]
  },
  {
   "cell_type": "code",
   "execution_count": null,
   "metadata": {},
   "outputs": [],
   "source": [
    "# def evaluation(result_list):\n",
    "#     for i in result_list:\n",
    "#         filename = open(f'Result/{i}', 'r')\n",
    "#         file = csv.DictReader(filename, delimiter='\\t')\n",
    "#         four_class_system_output = []\n",
    "#         tokens=[]\n",
    "#         for col in file:\n",
    "#             #print(col)\n",
    "# #             four_class_system_output.append(col['pred_AR_label'])\n",
    "#             four_class_system_output.append(col['AR_label'])\n",
    "#             tokens.append(col['Word'])\n",
    "#         #print(four_class_system_output[0:20])\n",
    "#         # To get the annotations\n",
    "#         data_source = i.replace('.csv','').split(\"_\")[-1]\n",
    "#         system = i.replace('.csv','').split(\"_\")[-2]\n",
    "#         train_data=data_source.split(\"-\")[0]\n",
    "#         dev_data=data_source.split(\"-\")[1]  \n",
    "#         filename1 = open(f'Preprocessed_data/{dev_data}_with_BIO_dev_extra_data.csv', 'r')\n",
    "#         file1 = csv.DictReader(filename1, delimiter='\\t')\n",
    "#         four_class_human_annotation = []\n",
    "#         for col in file1:\n",
    "#             #print(col)\n",
    "#             four_class_human_annotation.append(col['AR_label'])\n",
    "#         # to check if the predicted file and the dev file are aligned.\n",
    "#         #print(f\"{data_source} {len(four_class_human_annotation)} and {len(four_class_system_output)}\")\n",
    "#         report = classification_report(four_class_human_annotation[:len(four_class_system_output)],four_class_system_output,digits = 2)\n",
    "#         print(f\"{system.capitalize()} evaluation {data_source} BIO with {train_data}'s train and {dev_data}'s dev files\")\n",
    "#         print(report)\n",
    "#         print(sklearn.metrics.confusion_matrix(four_class_human_annotation[:len(four_class_system_output)],four_class_system_output))\n",
    "#         print(\"----------------------------------------------------------\")\n",
    "#         print()"
   ]
  },
  {
   "cell_type": "markdown",
   "metadata": {},
   "source": [
    "3.1.1 Evaluation: train and dev data from the same source. unlabeled sentences not removed"
   ]
  },
  {
   "cell_type": "code",
   "execution_count": null,
   "metadata": {},
   "outputs": [],
   "source": [
    "# result_list=[\"CRF_out_BIO_baseline_polnear-polnear.csv\"]\n",
    "# evaluation(result_list)"
   ]
  },
  {
   "cell_type": "code",
   "execution_count": null,
   "metadata": {},
   "outputs": [],
   "source": [
    "# result_list=[\"CRF_out_BIO_baseline-removed_polnear-polnear.csv\"]\n",
    "# evaluation(result_list)"
   ]
  },
  {
   "cell_type": "code",
   "execution_count": null,
   "metadata": {},
   "outputs": [],
   "source": [
    "# result_list=[\"CRF_out_BIO_features_polnear-polnear.csv\"]\n",
    "# evaluation(result_list)"
   ]
  },
  {
   "cell_type": "code",
   "execution_count": null,
   "metadata": {},
   "outputs": [],
   "source": [
    "# result_list=[\"CRF_out_BIO_features2_polnear-polnear.csv\"]\n",
    "# evaluation(result_list)"
   ]
  },
  {
   "cell_type": "code",
   "execution_count": null,
   "metadata": {},
   "outputs": [],
   "source": [
    "# result_list=[\"CRF_out_BIO_features3_polnear-polnear.csv\"]\n",
    "# evaluation(result_list)"
   ]
  },
  {
   "cell_type": "code",
   "execution_count": null,
   "metadata": {},
   "outputs": [],
   "source": [
    "# # https://www.geeksforgeeks.org/python-read-csv-columns-into-list/\n",
    "# # to write the annotations and predictions into lists\n",
    "\n",
    "# # To get the predictions\n",
    "# result_list=[\"CRF_out_BIO_polnear.csv\"]\n",
    "# #              ,\"CRF_out_BIO_parc3.csv\",\"CRF_out_BIO_merged-parc3-polnear.csv\"]\n"
   ]
  },
  {
   "cell_type": "markdown",
   "metadata": {},
   "source": [
    "3.1.2 Evaluation: train and dev data from the different source. unlabeled sentences not removed"
   ]
  },
  {
   "cell_type": "code",
   "execution_count": null,
   "metadata": {},
   "outputs": [],
   "source": [
    "# # https://www.geeksforgeeks.org/python-read-csv-columns-into-list/\n",
    "# # to write the annotations and predictions into lists\n",
    "\n",
    "# # To get the predictions\n",
    "# result_list=[\"CRF_out_BIO_polnear-parc3.csv\",\"CRF_out_BIO_parc3-polnear.csv\"]\n"
   ]
  },
  {
   "cell_type": "markdown",
   "metadata": {},
   "source": [
    "3.2.1 Evaluation: train and dev data from the same source. unlabeled sentences removed"
   ]
  },
  {
   "cell_type": "code",
   "execution_count": null,
   "metadata": {},
   "outputs": [],
   "source": [
    "# # https://www.geeksforgeeks.org/python-read-csv-columns-into-list/\n",
    "# # to write the annotations and predictions into lists\n",
    "\n",
    "# # To get the predictions\n",
    "# result_list=[\"CRF_out_BIO_polnear_removed.csv\",\"CRF_out_BIO_parc3_removed.csv\"]\n"
   ]
  },
  {
   "cell_type": "markdown",
   "metadata": {
    "tags": []
   },
   "source": [
    "3.2.2 Evaluation: train and dev data from the different source. unlabeled sentences removed"
   ]
  },
  {
   "cell_type": "code",
   "execution_count": null,
   "metadata": {},
   "outputs": [],
   "source": [
    "# # https://www.geeksforgeeks.org/python-read-csv-columns-into-list/\n",
    "# # to write the annotations and predictions into lists\n",
    "\n",
    "# # To get the predictions\n",
    "# result_list=[\"CRF_out_BIO_polnear-parc3_removed.csv\",\"CRF_out_BIO_parc3-polnear_removed.csv\"]\n"
   ]
  },
  {
   "cell_type": "code",
   "execution_count": null,
   "metadata": {},
   "outputs": [],
   "source": []
  }
 ],
 "metadata": {
  "kernelspec": {
   "display_name": "jupyter_py37_venv",
   "language": "python",
   "name": "jupyter_py37_venv"
  },
  "language_info": {
   "codemirror_mode": {
    "name": "ipython",
    "version": 3
   },
   "file_extension": ".py",
   "mimetype": "text/x-python",
   "name": "python",
   "nbconvert_exporter": "python",
   "pygments_lexer": "ipython3",
   "version": "3.8.5"
  }
 },
 "nbformat": 4,
 "nbformat_minor": 5
}
