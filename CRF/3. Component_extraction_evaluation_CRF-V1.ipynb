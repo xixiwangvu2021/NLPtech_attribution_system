{
 "cells": [
  {
   "cell_type": "markdown",
   "metadata": {},
   "source": [
    "# 3. Component_extraction_CRF\n",
    "\n",
    "To run and evaluate the CRF models.\n",
    "\n",
    "NB. For this notebook first download the glove files 'glove.6B.50d.txt' and 'glove.6B.100d.txt' from the internet and place them in the same location as this notebook."
   ]
  },
  {
   "cell_type": "code",
   "execution_count": null,
   "metadata": {},
   "outputs": [],
   "source": [
    "# Only run this cell once to install prepare the glove embeddings for the CRF models.\n",
    "%pip install gensim\n",
    "!python3 -m gensim.scripts.glove2word2vec --input glove.6B.50d.txt --output glove.6B.50d.w2vformat.txt\n",
    "!python3 -m gensim.scripts.glove2word2vec --input glove.6B.100d.txt --output glove.6B.100d.w2vformat.txt"
   ]
  },
  {
   "cell_type": "markdown",
   "metadata": {},
   "source": [
    "# Train and run CRF models"
   ]
  },
  {
   "cell_type": "code",
   "execution_count": 1,
   "metadata": {},
   "outputs": [],
   "source": [
    "import sklearn\n",
    "\n",
    "from sklearn import metrics\n",
    "from sklearn.metrics import classification_report\n",
    "\n",
    "from CRF import CRF, FeaturesCRF, Features2CRF, Features3CRF, Features4CRF, Features5CRF, Features6CRF, Features7CRF\n",
    "from CRF import Features8CRF, Features9CRF, Features10CRF, EmbeddingCRF, Embedding2CRF, Features2Embedding2CRF"
   ]
  },
  {
   "cell_type": "code",
   "execution_count": 2,
   "metadata": {},
   "outputs": [],
   "source": [
    "eval_data_set = 'dev'\n",
    "preprocessed_data=[f'polnear_with_BIO_{eval_data_set}.csv', \"polnear_with_BIO_train.csv\",\n",
    "                   f'parc3_with_BIO_{eval_data_set}.csv', \"parc3_with_BIO_train.csv\",\n",
    "                   f'merged_with_BIO_{eval_data_set}.csv', \"merged_with_BIO_train.csv\",]\n",
    "filename_addition = '_extra_data.csv'\n",
    "removed_filename_addition = '_removed' + filename_addition"
   ]
  },
  {
   "cell_type": "code",
   "execution_count": null,
   "metadata": {},
   "outputs": [],
   "source": [
    "# Training baseline model with polnear data\n",
    "crf = CRF()\n",
    "crf.train_and_run_crf_model('polnear_with_BIO_train',\n",
    "                            f'polnear_with_BIO_{eval_data_set}',\n",
    "                            f'CRF_out_BIO_baseline-{eval_data_set}_polnear-polnear.csv')"
   ]
  },
  {
   "cell_type": "code",
   "execution_count": null,
   "metadata": {},
   "outputs": [],
   "source": [
    "# Training baseline model with parc 3.0 data\n",
    "crf = CRF()\n",
    "crf.train_and_run_crf_model('parc3_with_BIO_train',\n",
    "                            f'parc3_with_BIO_{eval_data_set}',\n",
    "                            f'CRF_out_BIO_baseline-{eval_data_set}_parc3-parc3.csv')"
   ]
  },
  {
   "cell_type": "code",
   "execution_count": 3,
   "metadata": {},
   "outputs": [
    {
     "name": "stdout",
     "output_type": "stream",
     "text": [
      "['B-CONTENT', 'I-CONTENT', 'B-SOURCE', 'B-CUE', 'I-SOURCE', 'I-CUE']\n"
     ]
    },
    {
     "name": "stderr",
     "output_type": "stream",
     "text": [
      "/Users/bettyvandongen/opt/anaconda3/lib/python3.8/site-packages/sklearn/utils/validation.py:67: FutureWarning: Pass labels=['B-CONTENT', 'I-CONTENT', 'B-SOURCE', 'B-CUE', 'I-SOURCE', 'I-CUE'] as keyword args. From version 0.25 passing these as positional arguments will result in an error\n",
      "  warnings.warn(\"Pass {} as keyword args. From version 0.25 \"\n"
     ]
    }
   ],
   "source": [
    "# Training baseline model with merged data\n",
    "crf = CRF()\n",
    "crf.train_and_run_crf_model('merged_with_BIO_train',\n",
    "                            f'merged_with_BIO_{eval_data_set}',\n",
    "                            f'CRF_out_BIO_baseline-{eval_data_set}_merged-merged.csv')"
   ]
  },
  {
   "cell_type": "code",
   "execution_count": null,
   "metadata": {},
   "outputs": [],
   "source": [
    "# Training features model with polnear data\n",
    "crf = FeaturesCRF()\n",
    "crf.train_and_run_crf_model('polnear_with_BIO_train' + filename_addition,\n",
    "                            f'polnear_with_BIO_{eval_data_set}' + filename_addition,\n",
    "                            f'CRF_out_BIO_features-{eval_data_set}_polnear-polnear.csv')"
   ]
  },
  {
   "cell_type": "code",
   "execution_count": null,
   "metadata": {},
   "outputs": [],
   "source": [
    "# Training features2 model with polnear data\n",
    "crf = Features2CRF()\n",
    "crf.train_and_run_crf_model('polnear_with_BIO_train' + filename_addition,\n",
    "                            f'polnear_with_BIO_{eval_data_set}' + filename_addition,\n",
    "                            f'CRF_out_BIO_features2-{eval_data_set}_polnear-polnear.csv')"
   ]
  },
  {
   "cell_type": "code",
   "execution_count": null,
   "metadata": {},
   "outputs": [],
   "source": [
    "# Training features2 model with parc 3.0 data\n",
    "crf = Features2CRF()\n",
    "crf.train_and_run_crf_model('parc3_with_BIO_train' + filename_addition,\n",
    "                            f'parc3_with_BIO_{eval_data_set}' + filename_addition,\n",
    "                            f'CRF_out_BIO_features2-{eval_data_set}_parc3-parc3.csv')"
   ]
  },
  {
   "cell_type": "code",
   "execution_count": 5,
   "metadata": {},
   "outputs": [
    {
     "name": "stdout",
     "output_type": "stream",
     "text": [
      "['B-CONTENT', 'I-CONTENT', 'B-SOURCE', 'B-CUE', 'I-SOURCE', 'I-CUE']\n"
     ]
    }
   ],
   "source": [
    "# Training features2 model with merged data\n",
    "crf = Features2CRF()\n",
    "crf.train_and_run_crf_model('merged_with_BIO_train' + filename_addition,\n",
    "                            f'merged_with_BIO_{eval_data_set}' + filename_addition,\n",
    "                            f'CRF_out_BIO_features2-{eval_data_set}_merged-merged.csv')"
   ]
  },
  {
   "cell_type": "code",
   "execution_count": 6,
   "metadata": {},
   "outputs": [
    {
     "name": "stdout",
     "output_type": "stream",
     "text": [
      "['B-CONTENT', 'I-CONTENT', 'B-SOURCE', 'B-CUE', 'I-SOURCE', 'I-CUE']\n"
     ]
    }
   ],
   "source": [
    "# Training features2 model with merged data, unlabeled sentences removed\n",
    "crf = Features2CRF()\n",
    "crf.train_and_run_crf_model('merged_with_BIO_train' + removed_filename_addition,\n",
    "                            f'merged_with_BIO_{eval_data_set}' + filename_addition,\n",
    "                            f'CRF_out_BIO_features2-{eval_data_set}-removed_merged-merged.csv')"
   ]
  },
  {
   "cell_type": "code",
   "execution_count": null,
   "metadata": {},
   "outputs": [],
   "source": [
    "# Training features5 model with merged data\n",
    "crf = Features5CRF()\n",
    "crf.train_and_run_crf_model('merged_with_BIO_train' + filename_addition,\n",
    "                            f'merged_with_BIO_{eval_data_set}' + filename_addition,\n",
    "                            f'CRF_out_BIO_features5-{eval_data_set}_merged-merged.csv')"
   ]
  },
  {
   "cell_type": "code",
   "execution_count": null,
   "metadata": {},
   "outputs": [],
   "source": [
    "# Training features6 model with merged data\n",
    "crf = Features6CRF()\n",
    "crf.train_and_run_crf_model('merged_with_BIO_train' + filename_addition,\n",
    "                            f'merged_with_BIO_{eval_data_set}' + filename_addition,\n",
    "                            f'CRF_out_BIO_features6-{eval_data_set}_merged-merged.csv')"
   ]
  },
  {
   "cell_type": "code",
   "execution_count": null,
   "metadata": {},
   "outputs": [],
   "source": [
    "# Training features7 model with merged data, unlabeled sentences removed\n",
    "crf = Features7CRF()\n",
    "crf.train_and_run_crf_model('merged_with_BIO_train' + removed_filename_addition,\n",
    "                            f'merged_with_BIO_{eval_data_set}' + filename_addition,\n",
    "                            f'CRF_out_BIO_features7-{eval_data_set}-removed_merged-merged.csv')"
   ]
  },
  {
   "cell_type": "code",
   "execution_count": 3,
   "metadata": {},
   "outputs": [
    {
     "name": "stdout",
     "output_type": "stream",
     "text": [
      "['B-CONTENT', 'I-CONTENT', 'B-SOURCE', 'B-CUE', 'I-SOURCE', 'I-CUE']\n"
     ]
    },
    {
     "name": "stderr",
     "output_type": "stream",
     "text": [
      "/Users/bettyvandongen/opt/anaconda3/lib/python3.8/site-packages/sklearn/utils/validation.py:67: FutureWarning: Pass labels=['B-CONTENT', 'I-CONTENT', 'B-SOURCE', 'B-CUE', 'I-SOURCE', 'I-CUE'] as keyword args. From version 0.25 passing these as positional arguments will result in an error\n",
      "  warnings.warn(\"Pass {} as keyword args. From version 0.25 \"\n"
     ]
    }
   ],
   "source": [
    "# Training features8 model with merged data\n",
    "crf = Features8CRF()\n",
    "crf.train_and_run_crf_model('merged_with_BIO_train' + filename_addition,\n",
    "                            f'merged_with_BIO_{eval_data_set}' + filename_addition,\n",
    "                            f'CRF_out_BIO_features8-{eval_data_set}_merged-merged.csv')"
   ]
  },
  {
   "cell_type": "code",
   "execution_count": 4,
   "metadata": {},
   "outputs": [
    {
     "name": "stdout",
     "output_type": "stream",
     "text": [
      "['B-CONTENT', 'I-CONTENT', 'B-SOURCE', 'B-CUE', 'I-SOURCE', 'I-CUE']\n"
     ]
    }
   ],
   "source": [
    "# Training features8 model with merged data, unlabeled sentences removed\n",
    "crf = Features8CRF()\n",
    "crf.train_and_run_crf_model('merged_with_BIO_train' + removed_filename_addition,\n",
    "                            f'merged_with_BIO_{eval_data_set}' + filename_addition,\n",
    "                            f'CRF_out_BIO_features8-{eval_data_set}-removed_merged-merged.csv')"
   ]
  },
  {
   "cell_type": "code",
   "execution_count": null,
   "metadata": {},
   "outputs": [],
   "source": [
    "# Training features9 model with merged data, unlabeled sentences removed\n",
    "crf = Features9CRF()\n",
    "crf.train_and_run_crf_model('merged_with_BIO_train' + removed_filename_addition,\n",
    "                            f'merged_with_BIO_{eval_data_set}' + filename_addition,\n",
    "                            f'CRF_out_BIO_features9-{eval_data_set}-removed_merged-merged.csv')"
   ]
  },
  {
   "cell_type": "code",
   "execution_count": 7,
   "metadata": {},
   "outputs": [
    {
     "name": "stdout",
     "output_type": "stream",
     "text": [
      "['B-CONTENT', 'I-CONTENT', 'B-SOURCE', 'B-CUE', 'I-SOURCE', 'I-CUE']\n"
     ]
    }
   ],
   "source": [
    "# Training features10 model with merged data\n",
    "crf = Features10CRF()\n",
    "crf.train_and_run_crf_model('merged_with_BIO_train' + filename_addition,\n",
    "                            f'merged_with_BIO_{eval_data_set}' + filename_addition,\n",
    "                            f'CRF_out_BIO_features10-{eval_data_set}_merged-merged.csv')"
   ]
  },
  {
   "cell_type": "code",
   "execution_count": 8,
   "metadata": {},
   "outputs": [
    {
     "name": "stdout",
     "output_type": "stream",
     "text": [
      "['B-CONTENT', 'I-CONTENT', 'B-SOURCE', 'B-CUE', 'I-SOURCE', 'I-CUE']\n"
     ]
    }
   ],
   "source": [
    "# Training features10 model with merged data, unlabeled sentences removed\n",
    "crf = Features10CRF()\n",
    "crf.train_and_run_crf_model('merged_with_BIO_train' + removed_filename_addition,\n",
    "                            f'merged_with_BIO_{eval_data_set}' + filename_addition,\n",
    "                            f'CRF_out_BIO_features10-{eval_data_set}-removed_merged-merged.csv')"
   ]
  },
  {
   "cell_type": "code",
   "execution_count": null,
   "metadata": {},
   "outputs": [],
   "source": [
    "# Training features2 model with polnear data, unlabeled sentences removed\n",
    "crf = Features2CRF()\n",
    "crf.train_and_run_crf_model('polnear_with_BIO_train' + removed_filename_addition,\n",
    "                            f'polnear_with_BIO_{eval_data_set}' + filename_addition,\n",
    "                            f'CRF_out_BIO_features2-{eval_data_set}-removed_polnear-polnear.csv')"
   ]
  },
  {
   "cell_type": "code",
   "execution_count": null,
   "metadata": {},
   "outputs": [],
   "source": [
    "# Training features3 model with polnear data\n",
    "crf = Features3CRF()\n",
    "crf.train_and_run_crf_model('polnear_with_BIO_train' + filename_addition,\n",
    "                            f'polnear_with_BIO_{eval_data_set}' + filename_addition,\n",
    "                            f'CRF_out_BIO_features3-{eval_data_set}_polnear-polnear.csv')"
   ]
  },
  {
   "cell_type": "code",
   "execution_count": null,
   "metadata": {},
   "outputs": [],
   "source": [
    "# Training features4 model with polnear data\n",
    "crf = Features4CRF()\n",
    "crf.train_and_run_crf_model('polnear_with_BIO_train' + filename_addition,\n",
    "                            f'polnear_with_BIO_{eval_data_set}' + filename_addition,\n",
    "                            f'CRF_out_BIO_features4-{eval_data_set}_polnear-polnear.csv')"
   ]
  },
  {
   "cell_type": "code",
   "execution_count": null,
   "metadata": {},
   "outputs": [],
   "source": [
    "# Training word embedding model, 50 dimensions, with polnear data\n",
    "crf = EmbeddingCRF(50)\n",
    "crf.train_and_run_crf_model('polnear_with_BIO_train.csv',\n",
    "                            f'polnear_with_BIO_{eval_data_set}.csv',\n",
    "                            f'CRF_out_BIO_embedding50-{eval_data_set}_polnear-polnear.csv')"
   ]
  },
  {
   "cell_type": "code",
   "execution_count": null,
   "metadata": {},
   "outputs": [],
   "source": [
    "# Training word embedding model, 50 dimensions, with merged data\n",
    "crf = EmbeddingCRF(50)\n",
    "crf.train_and_run_crf_model('merged_with_BIO_train.csv',\n",
    "                            f'merged_with_BIO_{eval_data_set}.csv',\n",
    "                            f'CRF_out_BIO_embedding50-{eval_data_set}_merged-merged.csv')"
   ]
  },
  {
   "cell_type": "code",
   "execution_count": null,
   "metadata": {},
   "outputs": [],
   "source": [
    "# Training word embedding2 model, 50 dimensions, with merged data\n",
    "crf = Embedding2CRF(50)\n",
    "crf.train_and_run_crf_model('merged_with_BIO_train.csv',\n",
    "                            f'merged_with_BIO_{eval_data_set}.csv',\n",
    "                            f'CRF_out_BIO_embedding2-50-{eval_data_set}_merged-merged.csv')"
   ]
  },
  {
   "cell_type": "code",
   "execution_count": null,
   "metadata": {},
   "outputs": [],
   "source": [
    "# Training features2 and word embedding2 model, 50 dimensions, with polnear data\n",
    "crf = Features2Embedding2CRF(50)\n",
    "crf.train_and_run_crf_model('polnear_with_BIO_train' + filename_addition,\n",
    "                            f'polnear_with_BIO_{eval_data_set}' + filename_addition,\n",
    "                            f'CRF_out_BIO_features2-embedding2-50-{eval_data_set}_polnear-polnear.csv')"
   ]
  },
  {
   "cell_type": "code",
   "execution_count": null,
   "metadata": {},
   "outputs": [],
   "source": [
    "# Training features2 and word embedding2 model together, 50 dimensions, with merged data\n",
    "crf = Features2Embedding2CRF(50)\n",
    "crf.train_and_run_crf_model('merged_with_BIO_train' + filename_addition,\n",
    "                            f'merged_with_BIO_{eval_data_set}' + filename_addition,\n",
    "                            f'CRF_out_BIO_features2-embedding2-50-{eval_data_set}_merged-merged.csv')"
   ]
  },
  {
   "cell_type": "code",
   "execution_count": null,
   "metadata": {},
   "outputs": [],
   "source": [
    "# Training word embedding model, 50 dimensions, with parc 3.0 data\n",
    "crf = EmbeddingCRF(50)\n",
    "crf.train_and_run_crf_model('parc3_with_BIO_train.csv',\n",
    "                            f'parc3_with_BIO_dev_{eval_data_set}.csv',\n",
    "                            f'CRF_out_BIO_embedding50-{eval_data_set}_parc3-parc3.csv')"
   ]
  },
  {
   "cell_type": "code",
   "execution_count": null,
   "metadata": {},
   "outputs": [],
   "source": [
    "# Training word embedding model, 100 dimensions, with parc 3.0 data\n",
    "crf = EmbeddingCRF(100)\n",
    "crf.train_and_run_crf_model('parc3_with_BIO_train.csv',\n",
    "                            f'parc3_with_BIO_dev_{eval_data_set}.csv',\n",
    "                            f'CRF_out_BIO_embedding100-{eval_data_set}_parc3-parc3.csv')"
   ]
  },
  {
   "cell_type": "code",
   "execution_count": null,
   "metadata": {},
   "outputs": [],
   "source": [
    "# Training word embedding model, 100 dimensions, with polnear data\n",
    "crf = EmbeddingCRF(100)\n",
    "crf.train_and_run_crf_model('polnear_with_BIO_train.csv',\n",
    "                            f'polnear_with_BIO_{eval_data_set}.csv',\n",
    "                            f'CRF_out_BIO_embedding100-{eval_data_set}_polnear-polnear.csv')\n",
    "\n",
    "# Example embedding features\n",
    "# {'bias': 1.0, 'token': 'mark', 'v0': 0.26736, 'v1': 0.18049, 'v2': -0.314, 'v3': -0.58327, 'v4': -0.23609, 'v5': -0.34614, 'v6': -0.1654, 'v7': -0.32759, \n",
    "# 'v8': -1.479, 'v9': -0.31961, 'v10': -0.27241, 'v11': -0.30492, 'v12': 0.44354, 'v13': 0.10112, 'v14': 0.33955, 'v15': -0.41747, 'v16': 0.44942, \n",
    "# 'v17': -0.035098, 'v18': -1.1154, 'v19': 0.46818, 'v20': 0.84366, 'v21': 0.040854, 'v22': 0.30347, 'v23': 0.50844, 'v24': 1.1786, 'v25': 0.034765, \n",
    "# 'v26': 0.16056, 'v27': -0.63163, 'v28': 0.33688, 'v29': 0.14631, 'v30': -0.42875, 'v31': 0.2888, 'v32': 0.00062319, 'v33': 0.87847, 'v34': 0.31677, \n",
    "# 'v35': -0.68571, 'v36': -0.057479, 'v37': 0.23021, 'v38': -0.04874, 'v39': 0.16405, 'v40': 0.2489, 'v41': -0.77387, 'v42': 0.39342, 'v43': 0.70581, \n",
    "# 'v44': -0.61186, 'v45': -0.25623, 'v46': 0.14624, 'v47': -0.78911, 'v48': -0.071785, 'v49': -1.2844, 'v50': 1.1634, 'v51': -0.28015, 'v52': 0.032799, \n",
    "# 'v53': 0.45011, 'v54': -0.20363, 'v55': -2.4238, 'v56': -0.69491, 'v57': 0.64105, 'v58': 0.99553, 'v59': 0.049622, 'v60': 0.043249, 'v61': 0.499, \n",
    "# 'v62': 0.019314, 'v63': 0.070149, 'v64': -0.036043, 'v65': -0.60366, 'v66': 0.57625, 'v67': 0.64738, 'v68': 0.4857, 'v69': -0.088133, 'v70': -0.0072429,\n",
    "# 'v71': 0.5134, 'v72': -0.99625, 'v73': -0.60808, 'v74': 1.0536, 'v75': -0.49266, 'v76': -0.26202, 'v77': -0.006042, 'v78': -0.25483, 'v79': 0.5442, \n",
    "# 'v80': 0.40837, 'v81': 0.11222, 'v82': 0.14556, 'v83': -0.68029, 'v84': -0.58866, 'v85': -0.097334, 'v86': -0.19981, 'v87': -0.4306, 'v88': 0.8099, \n",
    "# 'v89': 0.1809, 'v90': -0.30745, 'v91': 0.7425, 'v92': 0.079075, 'v93': 0.52299, 'v94': -0.6159, 'v95': -0.20503, 'v96': 0.41337, 'v97': 0.070152, \n",
    "# 'v98': -0.66364, 'v99': -0.4607, 'BOS': True}"
   ]
  },
  {
   "cell_type": "code",
   "execution_count": null,
   "metadata": {},
   "outputs": [],
   "source": [
    "# Evaluation: train and eval data from the different source. Unlabeled sentences not removed.\n",
    "\n",
    "crf = Features2CRF()\n",
    "crf.train_and_run_crf_model('polnear_with_BIO_train' + filename_addition,\n",
    "                            f'parc3_with_BIO_{eval_data_set}' + filename_addition,\n",
    "                            f'CRF_out_BIO_features2_polnear-parc3.csv')"
   ]
  },
  {
   "cell_type": "code",
   "execution_count": null,
   "metadata": {},
   "outputs": [],
   "source": [
    "# Evaluation: train and eval data from the different source. Unlabeled sentences not removed.\n",
    "\n",
    "crf = Features2CRF()\n",
    "crf.train_and_run_crf_model('parc3_with_BIO_train' + filename_addition,\n",
    "                            f'polnear_with_BIO_{eval_data_set}' + filename_addition,\n",
    "                            f'CRF_out_BIO_features2_parc3-polnear.csv')"
   ]
  },
  {
   "cell_type": "code",
   "execution_count": null,
   "metadata": {},
   "outputs": [],
   "source": [
    "# Evaluation: train and eval data from the different source. Unlabeled sentences removed.\n",
    "\n",
    "crf = Features2CRF()\n",
    "crf.train_and_run_crf_model('polnear_with_BIO_train' + removed_filename_addition,\n",
    "                            f'parc3_with_BIO_{eval_data_set}' + filename_addition,\n",
    "                            f'CRF_out_BIO_features2-removed_polnear-parc3.csv')"
   ]
  },
  {
   "cell_type": "code",
   "execution_count": null,
   "metadata": {},
   "outputs": [],
   "source": [
    "# Evaluation: train and eval data from the different source. Unlabeled sentences not removed.\n",
    "\n",
    "crf = Features2CRF()\n",
    "crf.train_and_run_crf_model('parc3_with_BIO_train' + removed_filename_addition,\n",
    "                            f'polnear_with_BIO_{eval_data_set}' + filename_addition,\n",
    "                            f'CRF_out_BIO_features2-removed_parc3-polnear.csv')"
   ]
  },
  {
   "cell_type": "code",
   "execution_count": null,
   "metadata": {},
   "outputs": [],
   "source": []
  }
 ],
 "metadata": {
  "kernelspec": {
   "display_name": "jupyter_py37_venv",
   "language": "python",
   "name": "jupyter_py37_venv"
  },
  "language_info": {
   "codemirror_mode": {
    "name": "ipython",
    "version": 3
   },
   "file_extension": ".py",
   "mimetype": "text/x-python",
   "name": "python",
   "nbconvert_exporter": "python",
   "pygments_lexer": "ipython3",
   "version": "3.8.5"
  }
 },
 "nbformat": 4,
 "nbformat_minor": 5
}
