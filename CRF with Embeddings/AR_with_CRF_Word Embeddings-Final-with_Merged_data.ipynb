{
 "cells": [
  {
   "cell_type": "markdown",
   "id": "1a95dae0",
   "metadata": {},
   "source": [
    "# Atribution Relations Extractions Model: \n",
    "## Conditional Random Field (CRF) Approach\n",
    "###  CRF classifier trained with pre-trained word embeddings"
   ]
  },
  {
   "cell_type": "markdown",
   "id": "1072d4a1",
   "metadata": {},
   "source": [
    "In this notebook, we train and evaluate one CRF classifiers using 100 dimentional pre-trained GloVe word embeddings as features.\n",
    "\n",
    "The corpora is the combination of PolNeAr and PARC3. "
   ]
  },
  {
   "cell_type": "code",
   "execution_count": 1,
   "id": "3eaf003f",
   "metadata": {},
   "outputs": [],
   "source": [
    "# We start with imports:\n",
    "\n",
    "import sklearn_crfsuite# the model\n",
    "from sklearn_crfsuite import metrics\n",
    "from gensim.models import KeyedVectors # to load pre-trained word embeddings\n",
    "import numpy as np # to create 0 vectors for the words which are not in the vocabulary\n",
    "import pandas as pd # to load input&output files for evaluation\n",
    "import csv # to read the data files for training and evaluation"
   ]
  },
  {
   "cell_type": "code",
   "execution_count": 2,
   "id": "4c69c6e5",
   "metadata": {},
   "outputs": [
    {
     "name": "stderr",
     "output_type": "stream",
     "text": [
      "2021-06-21 21:56:10,283 - glove2word2vec - INFO - running C:\\Users\\filiz\\anaconda3\\lib\\site-packages\\gensim\\scripts\\glove2word2vec.py --input glove.6B.50d.txt --output glove.6B.50d.w2vformat.txt\n",
      "C:\\Users\\filiz\\anaconda3\\lib\\site-packages\\gensim\\scripts\\glove2word2vec.py:125: DeprecationWarning: Call to deprecated `glove2word2vec` (KeyedVectors.load_word2vec_format(.., binary=False, no_header=True) loads GLoVE text vectors.).\n",
      "  num_lines, num_dims = glove2word2vec(args.input, args.output)\n",
      "2021-06-21 21:56:10,283 - keyedvectors - INFO - loading projection weights from glove.6B.50d.txt\n",
      "2021-06-21 21:56:28,196 - utils - INFO - KeyedVectors lifecycle event {'msg': 'loaded (400000, 50) matrix of type float32 from glove.6B.50d.txt', 'binary': False, 'encoding': 'utf8', 'datetime': '2021-06-21T21:56:28.196600', 'gensim': '4.0.1', 'python': '3.8.8 (default, Apr 13 2021, 15:08:03) [MSC v.1916 64 bit (AMD64)]', 'platform': 'Windows-10-10.0.19041-SP0', 'event': 'load_word2vec_format'}\n",
      "2021-06-21 21:56:28,196 - glove2word2vec - INFO - converting 400000 vectors from glove.6B.50d.txt to glove.6B.50d.w2vformat.txt\n",
      "2021-06-21 21:56:28,524 - keyedvectors - INFO - storing 400000x50 projection weights into glove.6B.50d.w2vformat.txt\n",
      "2021-06-21 21:56:42,564 - glove2word2vec - INFO - Converted model with 400000 vectors and 50 dimensions\n"
     ]
    }
   ],
   "source": [
    "# load the pre-trained word embeddings\n",
    "glove_dimensions = 50\n",
    "!python -m gensim.scripts.glove2word2vec --input  glove.6B.50d.txt --output glove.6B.50d.w2vformat.txt\n",
    "model = KeyedVectors.load_word2vec_format(\"glove.6B.50d.w2vformat.txt\")"
   ]
  },
  {
   "cell_type": "markdown",
   "id": "95b897d6",
   "metadata": {},
   "source": [
    "### Helper functions:"
   ]
  },
  {
   "cell_type": "code",
   "execution_count": 3,
   "id": "ba623dc8",
   "metadata": {},
   "outputs": [],
   "source": [
    "def extract_sents_from_conll(inputfile):\n",
    "    '''Read the data from tsv file, return sentences as tokens with corresponding labels.'''\n",
    "    \n",
    "    rows = csv.reader(open(inputfile, encoding=\"utf-8\"), delimiter='\\t')\n",
    "    sents = []\n",
    "    current_sent = []\n",
    "    for row in rows:\n",
    "        current_sent.append(tuple(row))  \n",
    "        #After each sentence there is a special token: Sent_end. Its label is O. It was added in the preprocessing step.\n",
    "        if row[0] == \"Sent_end\":\n",
    "            sents.append(current_sent)\n",
    "            current_sent = []\n",
    "    return sents\n"
   ]
  },
  {
   "cell_type": "code",
   "execution_count": 4,
   "id": "6a15a9f9",
   "metadata": {},
   "outputs": [
    {
     "name": "stdout",
     "output_type": "stream",
     "text": [
      "[[('If', 'O'), ('Republicans', 'B-SOURCE'), ('choose', 'B-CUE'), ('to', 'I-CUE'), ('not', 'I-CUE'), ('believe', 'I-CUE'), ('Liar-of', 'B-CONTENT'), ('the', 'I-CONTENT'), ('Year', 'I-CONTENT'), ('Barack', 'I-CONTENT'), ('Obama', 'I-CONTENT'), (',', 'O'), ('the', 'O'), ('documented', 'O'), ('fact-checking', 'O'), ('frauds', 'O'), ('at', 'O'), ('the', 'O'), ('Washington', 'O'), ('Post', 'O'), ('will', 'O'), ('now', 'O'), ('award', 'O'), ('you', 'O'), ('the', 'O'), ('full-boat', 'O'), ('of', 'O'), ('four', 'O'), ('Pinocchios', 'O'), ('.', 'O'), ('Sent_end', 'O')], [('Because', 'O'), ('at', 'O'), ('the', 'O'), ('Washington', 'O'), ('Post', 'O'), (',', 'O'), ('what', 'O'), ('Obama', 'O'), ('says', 'O'), ('and', 'O'), ('promises', 'O'), ('is', 'O'), ('now', 'O'), ('the', 'O'), ('baseline', 'O'), ('for', 'O'), ('objective', 'O'), ('truth', 'O'), ('.', 'O'), ('Sent_end', 'O')]]\n",
      "75079\n"
     ]
    }
   ],
   "source": [
    "sents = extract_sents_from_conll(\"merged_withBIO_train.tsv\")\n",
    "\n",
    "print(sents[100:102])\n",
    "print(len(sents))"
   ]
  },
  {
   "cell_type": "code",
   "execution_count": 5,
   "id": "3e5c42ac",
   "metadata": {},
   "outputs": [],
   "source": [
    "def sent2tokens(sent):\n",
    "    '''Take the sentence as token-label pair, return only tokens'''\n",
    "\n",
    "    return [token for token, label in sent]\n"
   ]
  },
  {
   "cell_type": "code",
   "execution_count": 6,
   "id": "24147d2e",
   "metadata": {},
   "outputs": [
    {
     "name": "stdout",
     "output_type": "stream",
     "text": [
      "['Word', 'The', 'Ninth', 'Circle', ':', 'The', 'Hellish', 'View', 'from', 'Inside', 'the', 'Beltway', ',', '#', '2', '.', 'Sent_end']\n"
     ]
    }
   ],
   "source": [
    "test =  sent2tokens(sents[0])\n",
    "\n",
    "print(test)"
   ]
  },
  {
   "cell_type": "code",
   "execution_count": 7,
   "id": "8c6e9272",
   "metadata": {},
   "outputs": [],
   "source": [
    "def sent2labels(sent):    \n",
    "    '''Take the sentence as token-label pair, return only labels'''\n",
    "\n",
    "    return [label for token, label  in sent]"
   ]
  },
  {
   "cell_type": "code",
   "execution_count": 8,
   "id": "8c2fac83",
   "metadata": {},
   "outputs": [
    {
     "name": "stdout",
     "output_type": "stream",
     "text": [
      "['AR_label', 'O', 'O', 'O', 'O', 'O', 'O', 'O', 'O', 'O', 'O', 'O', 'O', 'O', 'O', 'O', 'O']\n"
     ]
    }
   ],
   "source": [
    "test2 = sent2labels(sents[0])\n",
    "\n",
    "print(test2)"
   ]
  },
  {
   "cell_type": "markdown",
   "id": "cb7e17e1",
   "metadata": {},
   "source": [
    "It is time to extract the features: \n",
    "\n",
    "IMPORTANT: Crfsuite does not support array features, like word embeddings. Instead, we pass every vector component as a feature.\n",
    "\n",
    "https://stackoverflow.com/questions/58736548/how-to-use-word-embedding-as-features-for-crf-sklearn-crfsuite-model-training\n",
    "https://github.com/scrapinghub/python-crfsuite/issues/39"
   ]
  },
  {
   "cell_type": "code",
   "execution_count": 9,
   "id": "36555f50",
   "metadata": {},
   "outputs": [],
   "source": [
    "### Embedding function \n",
    "def get_features(token):\n",
    "    '''Get token, return word vector'''\n",
    "    \n",
    "    token=token.lower()\n",
    "    try:\n",
    "         vector=model[token]\n",
    "    except:\n",
    "        # if the word is not in vocabulary,\n",
    "        # returns zeros array\n",
    "        vector=np.zeros(100,)\n",
    "\n",
    "    return vector   "
   ]
  },
  {
   "cell_type": "code",
   "execution_count": 10,
   "id": "8b90d7f2",
   "metadata": {},
   "outputs": [
    {
     "name": "stdout",
     "output_type": "stream",
     "text": [
      "50\n",
      "[ 0.96193    0.012516   0.21733   -0.06539    0.26843    0.33586\n",
      " -0.45112   -0.60547   -0.46845   -0.18412    0.060949   0.19597\n",
      "  0.22645    0.032802   0.42488    0.49678    0.65346   -0.0274\n",
      "  0.17809   -1.1979    -0.40634   -0.22659    1.1495     0.59342\n",
      " -0.23759   -0.93254   -0.52502    0.05125    0.032248  -0.72774\n",
      "  4.2466     0.60592    0.33397   -0.85754    0.4895     0.21744\n",
      " -0.13451    0.0094912 -0.54173    0.18857   -0.64506    0.012695\n",
      "  0.73452    1.0032     0.41874    0.16596   -0.71085    0.14032\n",
      " -0.38468   -0.38712  ]\n"
     ]
    }
   ],
   "source": [
    "vector = get_features(\"are\")\n",
    "print(len(vector))\n",
    "print(vector)"
   ]
  },
  {
   "cell_type": "code",
   "execution_count": 11,
   "id": "53fa515a",
   "metadata": {},
   "outputs": [],
   "source": [
    "def token2features(sent, i):\n",
    "    '''Get tokens in the sentence, add bias, token and word embeddings as features and return all as a feature dictionary.'''\n",
    "    \n",
    "    token = sent[i][0]\n",
    "    wordembdding=get_features(token)   ## word embedding vector \n",
    "    wordembdding=np.array(wordembdding) ## vectors \n",
    "    \n",
    "    \n",
    "    features = {\n",
    "        'bias': 1.0,\n",
    "        'token': token.lower()\n",
    "    }\n",
    "    \n",
    "    for iv,value in enumerate(wordembdding):\n",
    "        features['v{}'.format(iv)]=value\n",
    "\n",
    "    if i == 0:\n",
    "        features['BOS'] = True\n",
    "        \n",
    "    elif i == len(sent) -1:\n",
    "        features['EOS'] = True\n",
    "        \n",
    "    return features\n"
   ]
  },
  {
   "cell_type": "code",
   "execution_count": 12,
   "id": "10974a16",
   "metadata": {},
   "outputs": [
    {
     "name": "stdout",
     "output_type": "stream",
     "text": [
      "{'bias': 1.0, 'token': 'word', 'v0': -0.1643, 'v1': 0.15722, 'v2': -0.55021, 'v3': -0.3303, 'v4': 0.66463, 'v5': -0.1152, 'v6': -0.2261, 'v7': -0.23674, 'v8': -0.86119, 'v9': 0.24319, 'v10': 0.074499, 'v11': 0.61081, 'v12': 0.73683, 'v13': -0.35224, 'v14': 0.61346, 'v15': 0.0050975, 'v16': -0.62538, 'v17': -0.0050458, 'v18': 0.18392, 'v19': -0.12214, 'v20': -0.65973, 'v21': -0.30673, 'v22': 0.35038, 'v23': 0.75805, 'v24': 1.0183, 'v25': -1.7424, 'v26': -1.4277, 'v27': 0.38032, 'v28': 0.37713, 'v29': -0.74941, 'v30': 2.9401, 'v31': -0.8097, 'v32': -0.66901, 'v33': 0.23123, 'v34': -0.073194, 'v35': -0.13624, 'v36': 0.24424, 'v37': -1.0129, 'v38': -0.24919, 'v39': -0.06893, 'v40': 0.70231, 'v41': -0.022177, 'v42': -0.64684, 'v43': 0.59599, 'v44': 0.027092, 'v45': 0.11203, 'v46': 0.61214, 'v47': 0.74339, 'v48': 0.23572, 'v49': -0.1369, 'BOS': True}\n",
      "<class 'dict'>\n"
     ]
    }
   ],
   "source": [
    "features= token2features(sents[0], i=0)\n",
    "\n",
    "print(features)\n",
    "print(type(features))"
   ]
  },
  {
   "cell_type": "code",
   "execution_count": 13,
   "id": "21130c11",
   "metadata": {},
   "outputs": [],
   "source": [
    "def sent2features(sent):\n",
    "    '''Get sentence as an input, add the features and return as a list of dictionaries.'''\n",
    "    return [token2features(sent, i) for i in range(len(sent))]"
   ]
  },
  {
   "cell_type": "code",
   "execution_count": 14,
   "id": "78f3b1c4",
   "metadata": {},
   "outputs": [
    {
     "name": "stdout",
     "output_type": "stream",
     "text": [
      "[('Word', 'AR_label'), ('The', 'O'), ('Ninth', 'O'), ('Circle', 'O'), (':', 'O'), ('The', 'O'), ('Hellish', 'O'), ('View', 'O'), ('from', 'O'), ('Inside', 'O'), ('the', 'O'), ('Beltway', 'O'), (',', 'O'), ('#', 'O'), ('2', 'O'), ('.', 'O'), ('Sent_end', 'O')]\n",
      "<class 'list'>\n",
      "[{'bias': 1.0, 'token': 'word', 'v0': -0.1643, 'v1': 0.15722, 'v2': -0.55021, 'v3': -0.3303, 'v4': 0.66463, 'v5': -0.1152, 'v6': -0.2261, 'v7': -0.23674, 'v8': -0.86119, 'v9': 0.24319, 'v10': 0.074499, 'v11': 0.61081, 'v12': 0.73683, 'v13': -0.35224, 'v14': 0.61346, 'v15': 0.0050975, 'v16': -0.62538, 'v17': -0.0050458, 'v18': 0.18392, 'v19': -0.12214, 'v20': -0.65973, 'v21': -0.30673, 'v22': 0.35038, 'v23': 0.75805, 'v24': 1.0183, 'v25': -1.7424, 'v26': -1.4277, 'v27': 0.38032, 'v28': 0.37713, 'v29': -0.74941, 'v30': 2.9401, 'v31': -0.8097, 'v32': -0.66901, 'v33': 0.23123, 'v34': -0.073194, 'v35': -0.13624, 'v36': 0.24424, 'v37': -1.0129, 'v38': -0.24919, 'v39': -0.06893, 'v40': 0.70231, 'v41': -0.022177, 'v42': -0.64684, 'v43': 0.59599, 'v44': 0.027092, 'v45': 0.11203, 'v46': 0.61214, 'v47': 0.74339, 'v48': 0.23572, 'v49': -0.1369, 'BOS': True}, {'bias': 1.0, 'token': 'the', 'v0': 0.418, 'v1': 0.24968, 'v2': -0.41242, 'v3': 0.1217, 'v4': 0.34527, 'v5': -0.044457, 'v6': -0.49688, 'v7': -0.17862, 'v8': -0.00066023, 'v9': -0.6566, 'v10': 0.27843, 'v11': -0.14767, 'v12': -0.55677, 'v13': 0.14658, 'v14': -0.0095095, 'v15': 0.011658, 'v16': 0.10204, 'v17': -0.12792, 'v18': -0.8443, 'v19': -0.12181, 'v20': -0.016801, 'v21': -0.33279, 'v22': -0.1552, 'v23': -0.23131, 'v24': -0.19181, 'v25': -1.8823, 'v26': -0.76746, 'v27': 0.099051, 'v28': -0.42125, 'v29': -0.19526, 'v30': 4.0071, 'v31': -0.18594, 'v32': -0.52287, 'v33': -0.31681, 'v34': 0.00059213, 'v35': 0.0074449, 'v36': 0.17778, 'v37': -0.15897, 'v38': 0.012041, 'v39': -0.054223, 'v40': -0.29871, 'v41': -0.15749, 'v42': -0.34758, 'v43': -0.045637, 'v44': -0.44251, 'v45': 0.18785, 'v46': 0.0027849, 'v47': -0.18411, 'v48': -0.11514, 'v49': -0.78581}, {'bias': 1.0, 'token': 'ninth', 'v0': -0.40633, 'v1': -0.033606, 'v2': -0.17233, 'v3': 0.43543, 'v4': 1.3589, 'v5': -0.35976, 'v6': -0.86899, 'v7': 1.1931, 'v8': 0.31852, 'v9': -0.44344, 'v10': -0.39235, 'v11': -0.58266, 'v12': -1.0198, 'v13': 1.012, 'v14': 0.17608, 'v15': -1.6176, 'v16': 0.11715, 'v17': -1.0703, 'v18': -1.0044, 'v19': 0.36526, 'v20': -0.64942, 'v21': -1.0998, 'v22': -0.64674, 'v23': -0.15054, 'v24': 0.16479, 'v25': -0.72555, 'v26': 0.27291, 'v27': -0.73467, 'v28': -0.23148, 'v29': -0.66967, 'v30': 2.5123, 'v31': -0.016021, 'v32': 0.25347, 'v33': 0.95152, 'v34': 0.25671, 'v35': -0.099066, 'v36': 0.74436, 'v37': 0.91438, 'v38': 0.20886, 'v39': -0.21385, 'v40': -1.0506, 'v41': -0.54327, 'v42': -0.50031, 'v43': -0.36716, 'v44': -0.39164, 'v45': 0.5103, 'v46': 0.66144, 'v47': -0.8687, 'v48': -0.067803, 'v49': 0.24486}, {'bias': 1.0, 'token': 'circle', 'v0': 0.031194, 'v1': 1.3965, 'v2': 0.099333, 'v3': -0.28257, 'v4': 0.698, 'v5': 0.060701, 'v6': -0.063591, 'v7': -0.13732, 'v8': -0.056184, 'v9': -0.51164, 'v10': -0.44842, 'v11': -0.29044, 'v12': -0.58677, 'v13': 0.96193, 'v14': -0.87526, 'v15': 0.041329, 'v16': 0.70571, 'v17': -0.36101, 'v18': -0.6187, 'v19': -0.34575, 'v20': 0.33935, 'v21': -0.1803, 'v22': -0.019442, 'v23': 0.37123, 'v24': -0.14978, 'v25': -0.99516, 'v26': -0.80352, 'v27': 0.48491, 'v28': -0.019706, 'v29': -0.69561, 'v30': 1.9556, 'v31': 0.20836, 'v32': 0.079642, 'v33': -0.15071, 'v34': -0.61761, 'v35': -0.23789, 'v36': -0.57757, 'v37': 0.24111, 'v38': -0.17408, 'v39': 0.41456, 'v40': 0.34125, 'v41': 0.15863, 'v42': -0.41312, 'v43': 0.34164, 'v44': -0.82359, 'v45': -0.44607, 'v46': 0.46473, 'v47': -0.90231, 'v48': -0.53438, 'v49': -0.57996}, {'bias': 1.0, 'token': ':', 'v0': -0.17587, 'v1': 1.3508, 'v2': -0.18159, 'v3': 0.45197, 'v4': 0.37554, 'v5': -0.20926, 'v6': 0.014956, 'v7': -0.87286, 'v8': -0.54443, 'v9': -0.25731, 'v10': -0.521, 'v11': 0.62242, 'v12': -0.52387, 'v13': -0.061782, 'v14': 1.1805, 'v15': -0.041984, 'v16': 0.10582, 'v17': -0.20913, 'v18': -0.54508, 'v19': 0.027728, 'v20': -0.31329, 'v21': 0.13439, 'v22': 0.55192, 'v23': 0.75419, 'v24': 0.30996, 'v25': -1.3301, 'v26': -0.9862, 'v27': -0.33747, 'v28': 0.17633, 'v29': -0.37547, 'v30': 3.4474, 'v31': 0.14171, 'v32': -0.65033, 'v33': 0.10118, 'v34': 0.00014796, 'v35': -0.074707, 'v36': 0.19146, 'v37': -0.47977, 'v38': 0.39628, 'v39': -0.13403, 'v40': 0.43043, 'v41': 0.45704, 'v42': 0.59387, 'v43': -0.40308, 'v44': 0.067302, 'v45': 1.2784, 'v46': 0.49927, 'v47': 0.15617, 'v48': 0.5665, 'v49': 0.61385}, {'bias': 1.0, 'token': 'the', 'v0': 0.418, 'v1': 0.24968, 'v2': -0.41242, 'v3': 0.1217, 'v4': 0.34527, 'v5': -0.044457, 'v6': -0.49688, 'v7': -0.17862, 'v8': -0.00066023, 'v9': -0.6566, 'v10': 0.27843, 'v11': -0.14767, 'v12': -0.55677, 'v13': 0.14658, 'v14': -0.0095095, 'v15': 0.011658, 'v16': 0.10204, 'v17': -0.12792, 'v18': -0.8443, 'v19': -0.12181, 'v20': -0.016801, 'v21': -0.33279, 'v22': -0.1552, 'v23': -0.23131, 'v24': -0.19181, 'v25': -1.8823, 'v26': -0.76746, 'v27': 0.099051, 'v28': -0.42125, 'v29': -0.19526, 'v30': 4.0071, 'v31': -0.18594, 'v32': -0.52287, 'v33': -0.31681, 'v34': 0.00059213, 'v35': 0.0074449, 'v36': 0.17778, 'v37': -0.15897, 'v38': 0.012041, 'v39': -0.054223, 'v40': -0.29871, 'v41': -0.15749, 'v42': -0.34758, 'v43': -0.045637, 'v44': -0.44251, 'v45': 0.18785, 'v46': 0.0027849, 'v47': -0.18411, 'v48': -0.11514, 'v49': -0.78581}, {'bias': 1.0, 'token': 'hellish', 'v0': 0.86343, 'v1': 0.0046381, 'v2': -0.85165, 'v3': -0.31674, 'v4': -0.35847, 'v5': -0.53982, 'v6': 0.73907, 'v7': 0.66941, 'v8': 0.052928, 'v9': 0.24664, 'v10': -0.47502, 'v11': -0.2677, 'v12': -0.37655, 'v13': 0.75449, 'v14': 0.76183, 'v15': -0.30596, 'v16': -0.15691, 'v17': 0.30894, 'v18': -0.0035266, 'v19': 0.098211, 'v20': -0.19479, 'v21': 0.70525, 'v22': -0.043682, 'v23': 0.17766, 'v24': 0.46481, 'v25': 0.54119, 'v26': -0.81148, 'v27': 0.49083, 'v28': 1.5169, 'v29': 1.1645, 'v30': 0.066761, 'v31': -0.090475, 'v32': -0.11249, 'v33': -0.36704, 'v34': 0.011283, 'v35': 0.89194, 'v36': -0.30133, 'v37': -0.38588, 'v38': 0.12288, 'v39': 0.18792, 'v40': -1.2412, 'v41': -0.21091, 'v42': 0.1589, 'v43': 0.47247, 'v44': -0.26853, 'v45': -0.29772, 'v46': 0.77712, 'v47': -0.72784, 'v48': 0.24178, 'v49': -0.30621}, {'bias': 1.0, 'token': 'view', 'v0': 0.56616, 'v1': 0.67167, 'v2': -0.19278, 'v3': -0.37824, 'v4': 0.6459, 'v5': -0.4243, 'v6': -0.38606, 'v7': -0.80468, 'v8': -0.34442, 'v9': 0.1913, 'v10': -0.48999, 'v11': -0.21038, 'v12': -0.016231, 'v13': -0.017078, 'v14': -0.4217, 'v15': 0.55147, 'v16': 0.41608, 'v17': -0.61066, 'v18': 0.035416, 'v19': -0.61576, 'v20': -0.097599, 'v21': 0.51837, 'v22': -0.47337, 'v23': -0.071652, 'v24': 0.5492, 'v25': -1.3355, 'v26': -0.7694, 'v27': 0.5427, 'v28': 0.0070481, 'v29': 0.086856, 'v30': 2.8757, 'v31': -0.40083, 'v32': -0.10879, 'v33': -1.3435, 'v34': -0.38977, 'v35': -0.83612, 'v36': -0.31908, 'v37': -0.045061, 'v38': -0.91621, 'v39': -0.36012, 'v40': 0.12146, 'v41': -0.1824, 'v42': 0.19599, 'v43': 0.57707, 'v44': -0.28109, 'v45': 0.064966, 'v46': 0.0183, 'v47': 0.097139, 'v48': 0.19157, 'v49': -0.023458}, {'bias': 1.0, 'token': 'from', 'v0': 0.41037, 'v1': 0.11342, 'v2': 0.051524, 'v3': -0.53833, 'v4': -0.12913, 'v5': 0.22247, 'v6': -0.9494, 'v7': -0.18963, 'v8': -0.36623, 'v9': -0.067011, 'v10': 0.19356, 'v11': -0.33044, 'v12': 0.11615, 'v13': -0.58585, 'v14': 0.36106, 'v15': 0.12555, 'v16': -0.3581, 'v17': -0.023201, 'v18': -1.2319, 'v19': 0.23383, 'v20': 0.71256, 'v21': 0.14824, 'v22': 0.50874, 'v23': -0.12313, 'v24': -0.20353, 'v25': -1.82, 'v26': 0.22291, 'v27': 0.020291, 'v28': -0.081743, 'v29': -0.27481, 'v30': 3.7343, 'v31': -0.01874, 'v32': -0.084522, 'v33': -0.30364, 'v34': 0.27959, 'v35': 0.043328, 'v36': -0.24621, 'v37': 0.015373, 'v38': 0.49751, 'v39': 0.15108, 'v40': -0.01619, 'v41': 0.40132, 'v42': 0.23067, 'v43': -0.10743, 'v44': -0.36625, 'v45': -0.051135, 'v46': 0.041474, 'v47': -0.36064, 'v48': -0.19616, 'v49': -0.81066}, {'bias': 1.0, 'token': 'inside', 'v0': 0.70604, 'v1': 0.11939, 'v2': 0.78016, 'v3': -0.24035, 'v4': 0.89127, 'v5': -0.45407, 'v6': -0.52973, 'v7': 0.12007, 'v8': 0.28835, 'v9': -0.47028, 'v10': -0.31489, 'v11': -0.6692, 'v12': -0.48706, 'v13': 0.74107, 'v14': 0.10136, 'v15': 0.47167, 'v16': 0.21224, 'v17': 0.027707, 'v18': -0.47647, 'v19': -0.45291, 'v20': 0.054675, 'v21': 0.57616, 'v22': 0.042375, 'v23': 0.27103, 'v24': -0.16695, 'v25': -1.5043, 'v26': 0.093798, 'v27': 1.0818, 'v28': 0.8095, 'v29': -0.6694, 'v30': 3.015, 'v31': -0.27475, 'v32': -0.19294, 'v33': -0.37959, 'v34': -0.32027, 'v35': 1.1504, 'v36': 0.19442, 'v37': -0.00019166, 'v38': 0.29163, 'v39': 0.30281, 'v40': 0.44064, 'v41': 0.36902, 'v42': -0.18898, 'v43': 0.4952, 'v44': 0.3596, 'v45': 0.13518, 'v46': 0.13166, 'v47': -0.75824, 'v48': -0.24049, 'v49': -1.1034}, {'bias': 1.0, 'token': 'the', 'v0': 0.418, 'v1': 0.24968, 'v2': -0.41242, 'v3': 0.1217, 'v4': 0.34527, 'v5': -0.044457, 'v6': -0.49688, 'v7': -0.17862, 'v8': -0.00066023, 'v9': -0.6566, 'v10': 0.27843, 'v11': -0.14767, 'v12': -0.55677, 'v13': 0.14658, 'v14': -0.0095095, 'v15': 0.011658, 'v16': 0.10204, 'v17': -0.12792, 'v18': -0.8443, 'v19': -0.12181, 'v20': -0.016801, 'v21': -0.33279, 'v22': -0.1552, 'v23': -0.23131, 'v24': -0.19181, 'v25': -1.8823, 'v26': -0.76746, 'v27': 0.099051, 'v28': -0.42125, 'v29': -0.19526, 'v30': 4.0071, 'v31': -0.18594, 'v32': -0.52287, 'v33': -0.31681, 'v34': 0.00059213, 'v35': 0.0074449, 'v36': 0.17778, 'v37': -0.15897, 'v38': 0.012041, 'v39': -0.054223, 'v40': -0.29871, 'v41': -0.15749, 'v42': -0.34758, 'v43': -0.045637, 'v44': -0.44251, 'v45': 0.18785, 'v46': 0.0027849, 'v47': -0.18411, 'v48': -0.11514, 'v49': -0.78581}, {'bias': 1.0, 'token': 'beltway', 'v0': -0.11174, 'v1': 0.63959, 'v2': 0.99926, 'v3': -0.010917, 'v4': -0.39934, 'v5': -0.69775, 'v6': 0.86089, 'v7': -0.22972, 'v8': -1.0367, 'v9': -0.269, 'v10': -1.7936, 'v11': -0.75789, 'v12': -0.23549, 'v13': 0.74847, 'v14': -1.2135, 'v15': 0.30553, 'v16': 0.3244, 'v17': 0.99761, 'v18': -0.26203, 'v19': 0.84948, 'v20': 0.22703, 'v21': -0.15373, 'v22': -0.19172, 'v23': 1.1392, 'v24': -0.029986, 'v25': -0.92899, 'v26': -0.27822, 'v27': 0.7846, 'v28': 0.79128, 'v29': -0.78405, 'v30': 0.17552, 'v31': -0.089602, 'v32': 0.34526, 'v33': -0.6348, 'v34': -0.51168, 'v35': -0.28338, 'v36': -0.67416, 'v37': -0.7963, 'v38': -0.27671, 'v39': 0.65109, 'v40': -0.21583, 'v41': 0.02669, 'v42': 0.058276, 'v43': 1.4904, 'v44': -0.84532, 'v45': -0.087185, 'v46': 0.50408, 'v47': 0.21412, 'v48': 0.043216, 'v49': 0.28782}, {'bias': 1.0, 'token': ',', 'v0': 0.013441, 'v1': 0.23682, 'v2': -0.16899, 'v3': 0.40951, 'v4': 0.63812, 'v5': 0.47709, 'v6': -0.42852, 'v7': -0.55641, 'v8': -0.364, 'v9': -0.23938, 'v10': 0.13001, 'v11': -0.063734, 'v12': -0.39575, 'v13': -0.48162, 'v14': 0.23291, 'v15': 0.090201, 'v16': -0.13324, 'v17': 0.078639, 'v18': -0.41634, 'v19': -0.15428, 'v20': 0.10068, 'v21': 0.48891, 'v22': 0.31226, 'v23': -0.1252, 'v24': -0.037512, 'v25': -1.5179, 'v26': 0.12612, 'v27': -0.02442, 'v28': -0.042961, 'v29': -0.28351, 'v30': 3.5416, 'v31': -0.11956, 'v32': -0.014533, 'v33': -0.1499, 'v34': 0.21864, 'v35': -0.33412, 'v36': -0.13872, 'v37': 0.31806, 'v38': 0.70358, 'v39': 0.44858, 'v40': -0.080262, 'v41': 0.63003, 'v42': 0.32111, 'v43': -0.46765, 'v44': 0.22786, 'v45': 0.36034, 'v46': -0.37818, 'v47': -0.56657, 'v48': 0.044691, 'v49': 0.30392}, {'bias': 1.0, 'token': '#', 'v0': -1.5925, 'v1': 0.75569, 'v2': 1.4947, 'v3': 0.11055, 'v4': -0.05244, 'v5': 0.51893, 'v6': -0.61283, 'v7': -0.33189, 'v8': 0.1533, 'v9': -0.17681, 'v10': -0.34256, 'v11': 0.0010057, 'v12': -0.67281, 'v13': 0.32264, 'v14': 0.4033, 'v15': -1.183, 'v16': -0.44742, 'v17': 0.25633, 'v18': -1.6399, 'v19': 0.33532, 'v20': 0.1125, 'v21': -0.39391, 'v22': 1.1817, 'v23': 0.90325, 'v24': -0.088998, 'v25': 0.049876, 'v26': -1.2684, 'v27': -0.83517, 'v28': 0.35747, 'v29': -0.17869, 'v30': 1.9297, 'v31': -0.68884, 'v32': 0.26064, 'v33': 0.0046655, 'v34': 0.64509, 'v35': -0.23729, 'v36': 0.88325, 'v37': -0.95139, 'v38': -0.031632, 'v39': -1.2398, 'v40': 0.090161, 'v41': -1.2927, 'v42': 0.18976, 'v43': -1.1884, 'v44': -1.0836, 'v45': 1.3852, 'v46': 0.31768, 'v47': -0.84084, 'v48': 0.49488, 'v49': 0.34052}, {'bias': 1.0, 'token': '2', 'v0': -0.11098, 'v1': 0.86724, 'v2': 0.78114, 'v3': 0.62927, 'v4': 0.47444, 'v5': 0.56995, 'v6': -0.036589, 'v7': -0.36277, 'v8': -0.75835, 'v9': -0.23177, 'v10': -0.033863, 'v11': -0.13799, 'v12': -0.27332, 'v13': -0.49268, 'v14': 0.65304, 'v15': -0.65874, 'v16': -0.37598, 'v17': -0.035175, 'v18': -1.751, 'v19': 0.4251, 'v20': 0.27823, 'v21': -0.70469, 'v22': 1.4309, 'v23': 0.47407, 'v24': -0.7927, 'v25': -0.59344, 'v26': 0.72797, 'v27': -0.46763, 'v28': 0.42751, 'v29': -0.54557, 'v30': 3.6055, 'v31': 0.3723, 'v32': -0.49394, 'v33': 0.7213, 'v34': 0.38648, 'v35': -0.12074, 'v36': 0.52277, 'v37': 0.11091, 'v38': 0.76881, 'v39': -0.71368, 'v40': 0.73664, 'v41': -0.5564, 'v42': 0.56538, 'v43': -1.1565, 'v44': -0.39394, 'v45': 1.3017, 'v46': 0.28281, 'v47': -0.61752, 'v48': 0.59103, 'v49': 0.28649}, {'bias': 1.0, 'token': '.', 'v0': 0.15164, 'v1': 0.30177, 'v2': -0.16763, 'v3': 0.17684, 'v4': 0.31719, 'v5': 0.33973, 'v6': -0.43478, 'v7': -0.31086, 'v8': -0.44999, 'v9': -0.29486, 'v10': 0.16608, 'v11': 0.11963, 'v12': -0.41328, 'v13': -0.42353, 'v14': 0.59868, 'v15': 0.28825, 'v16': -0.11547, 'v17': -0.041848, 'v18': -0.67989, 'v19': -0.25063, 'v20': 0.18472, 'v21': 0.086876, 'v22': 0.46582, 'v23': 0.015035, 'v24': 0.043474, 'v25': -1.4671, 'v26': -0.30384, 'v27': -0.023441, 'v28': 0.30589, 'v29': -0.21785, 'v30': 3.746, 'v31': 0.0042284, 'v32': -0.18436, 'v33': -0.46209, 'v34': 0.098329, 'v35': -0.11907, 'v36': 0.23919, 'v37': 0.1161, 'v38': 0.41705, 'v39': 0.056763, 'v40': -6.3681e-05, 'v41': 0.068987, 'v42': 0.087939, 'v43': -0.10285, 'v44': -0.13931, 'v45': 0.22314, 'v46': -0.080803, 'v47': -0.35652, 'v48': 0.016413, 'v49': 0.10216}, {'bias': 1.0, 'token': 'sent_end', 'v0': 0.0, 'v1': 0.0, 'v2': 0.0, 'v3': 0.0, 'v4': 0.0, 'v5': 0.0, 'v6': 0.0, 'v7': 0.0, 'v8': 0.0, 'v9': 0.0, 'v10': 0.0, 'v11': 0.0, 'v12': 0.0, 'v13': 0.0, 'v14': 0.0, 'v15': 0.0, 'v16': 0.0, 'v17': 0.0, 'v18': 0.0, 'v19': 0.0, 'v20': 0.0, 'v21': 0.0, 'v22': 0.0, 'v23': 0.0, 'v24': 0.0, 'v25': 0.0, 'v26': 0.0, 'v27': 0.0, 'v28': 0.0, 'v29': 0.0, 'v30': 0.0, 'v31': 0.0, 'v32': 0.0, 'v33': 0.0, 'v34': 0.0, 'v35': 0.0, 'v36': 0.0, 'v37': 0.0, 'v38': 0.0, 'v39': 0.0, 'v40': 0.0, 'v41': 0.0, 'v42': 0.0, 'v43': 0.0, 'v44': 0.0, 'v45': 0.0, 'v46': 0.0, 'v47': 0.0, 'v48': 0.0, 'v49': 0.0, 'v50': 0.0, 'v51': 0.0, 'v52': 0.0, 'v53': 0.0, 'v54': 0.0, 'v55': 0.0, 'v56': 0.0, 'v57': 0.0, 'v58': 0.0, 'v59': 0.0, 'v60': 0.0, 'v61': 0.0, 'v62': 0.0, 'v63': 0.0, 'v64': 0.0, 'v65': 0.0, 'v66': 0.0, 'v67': 0.0, 'v68': 0.0, 'v69': 0.0, 'v70': 0.0, 'v71': 0.0, 'v72': 0.0, 'v73': 0.0, 'v74': 0.0, 'v75': 0.0, 'v76': 0.0, 'v77': 0.0, 'v78': 0.0, 'v79': 0.0, 'v80': 0.0, 'v81': 0.0, 'v82': 0.0, 'v83': 0.0, 'v84': 0.0, 'v85': 0.0, 'v86': 0.0, 'v87': 0.0, 'v88': 0.0, 'v89': 0.0, 'v90': 0.0, 'v91': 0.0, 'v92': 0.0, 'v93': 0.0, 'v94': 0.0, 'v95': 0.0, 'v96': 0.0, 'v97': 0.0, 'v98': 0.0, 'v99': 0.0, 'EOS': True}]\n"
     ]
    }
   ],
   "source": [
    "test3 =sent2features(sents[0])\n",
    "\n",
    "print(sents[0])\n",
    "print(type(test3))\n",
    "print(test3)\n"
   ]
  },
  {
   "cell_type": "code",
   "execution_count": 15,
   "id": "a5843afb",
   "metadata": {},
   "outputs": [],
   "source": [
    "def train_crf_model(X_train, y_train):\n",
    "    '''Compile and fit the model'''\n",
    "\n",
    "    crf = sklearn_crfsuite.CRF(\n",
    "        algorithm='lbfgs',\n",
    "        c1=0.1,\n",
    "        c2=0.1,\n",
    "        max_iterations=100,\n",
    "        all_possible_transitions=True\n",
    "    )\n",
    "    crf.fit(X_train, y_train)\n",
    "    \n",
    "    return crf\n"
   ]
  },
  {
   "cell_type": "code",
   "execution_count": 16,
   "id": "3d26163f",
   "metadata": {},
   "outputs": [],
   "source": [
    "def create_crf_model(trainingfile):\n",
    "    \n",
    "    '''Perform the training with the data, return the classifier'''\n",
    "\n",
    "    train_sents = extract_sents_from_conll(trainingfile)\n",
    "    X_train = [sent2features(s) for s in train_sents]\n",
    "    y_train = [sent2labels(s) for s in train_sents]\n",
    "\n",
    "    crf = train_crf_model(X_train, y_train)\n",
    "    \n",
    "    return crf \n"
   ]
  },
  {
   "cell_type": "code",
   "execution_count": 17,
   "id": "dba1cb9d",
   "metadata": {},
   "outputs": [],
   "source": [
    "def run_crf_model(crf, evaluationfile):\n",
    "    \n",
    "    '''Get and prepare the validation sentences, run the classifier and return predictions'''\n",
    "\n",
    "    test_sents = extract_sents_from_conll(evaluationfile)\n",
    "    X_test = [sent2features(s) for s in test_sents]\n",
    "    y_test = [sent2labels(s) for s in test_sents]\n",
    "    y_pred = crf.predict(X_test)\n",
    "    \n",
    "    return y_pred, X_test, y_test\n"
   ]
  },
  {
   "cell_type": "code",
   "execution_count": 18,
   "id": "22f5ed48",
   "metadata": {},
   "outputs": [],
   "source": [
    "def write_out_evaluation(eval_data, pred_labels, outputfile):\n",
    "    \n",
    "    '''Write the predicitons to a new file along with tokens'''\n",
    "\n",
    "    outfile = open(outputfile, 'w', encoding=\"utf-8\")\n",
    "    \n",
    "    for evalsents, predsents in zip(eval_data, pred_labels):\n",
    "        for data, pred in zip(evalsents, predsents):\n",
    "            token = str(data.get('token'))\n",
    "            outfile.write(token + \"\\t\" + pred + \"\\n\")"
   ]
  },
  {
   "cell_type": "markdown",
   "id": "2d811201",
   "metadata": {},
   "source": [
    "## Training and Evaluation Functions:"
   ]
  },
  {
   "cell_type": "code",
   "execution_count": 19,
   "id": "eb67ddda",
   "metadata": {},
   "outputs": [],
   "source": [
    "def run_and_evaluate_crf_model(trainingfile, evaluationfile, outputfile):\n",
    "\n",
    "    '''Perform the full training at once'''\n",
    "    crf = create_crf_model(trainingfile)\n",
    "    labels = list(crf.classes_)\n",
    "    labels.remove('O')\n",
    "    labels.remove('AR_label')\n",
    "    labels\n",
    "    y_pred, X_test, y_test = run_crf_model(crf, evaluationfile)\n",
    "    write_out_evaluation(X_test, y_pred, outputfile)\n",
    "    print('The predictions are written on the output file.')\n",
    "    print(metrics.flat_classification_report(y_test, y_pred, labels=labels, digits=4))\n",
    "    print('Accuracy score for sequence items')\n",
    "    print(metrics.flat_accuracy_score(y_test, y_pred))\n",
    "    print('Precision score for sequence items')\n",
    "    print(metrics.flat_precision_score(y_test, y_pred, average='weighted'))\n",
    "    print('Recall score for sequence items')\n",
    "    print(metrics.flat_recall_score(y_test, y_pred, average='weighted'))\n",
    "    print('F1 score score for sequence items')\n",
    "    print(metrics.flat_f1_score(y_test, y_pred, average='weighted'))"
   ]
  },
  {
   "cell_type": "markdown",
   "id": "96bca993",
   "metadata": {},
   "source": [
    "## Toy example to test:"
   ]
  },
  {
   "cell_type": "code",
   "execution_count": 20,
   "id": "13387e15",
   "metadata": {},
   "outputs": [],
   "source": [
    "toy_trainingfile = \"Toy_data_train.tsv\"\n",
    "toy_evaluationfile = \"Toy_data_eval.tsv\"\n",
    "toy_outputfile = \"toy_output_CRF_Embeddings.tsv\""
   ]
  },
  {
   "cell_type": "code",
   "execution_count": 21,
   "id": "0bee3507",
   "metadata": {},
   "outputs": [
    {
     "name": "stdout",
     "output_type": "stream",
     "text": [
      "The predictions are written on the output file.\n",
      "              precision    recall  f1-score   support\n",
      "\n",
      "    B-SOURCE     0.0000    0.0000    0.0000         2\n",
      "       B-CUE     0.0000    0.0000    0.0000         2\n",
      "   B-CONTENT     0.0000    0.0000    0.0000         2\n",
      "   I-CONTENT     0.0000    0.0000    0.0000        72\n",
      "       I-CUE     0.0000    0.0000    0.0000         1\n",
      "    I-SOURCE     0.0000    0.0000    0.0000         4\n",
      "\n",
      "   micro avg     0.0000    0.0000    0.0000        83\n",
      "   macro avg     0.0000    0.0000    0.0000        83\n",
      "weighted avg     0.0000    0.0000    0.0000        83\n",
      "\n",
      "Accuracy score for sequence items\n",
      "0.2169811320754717\n",
      "Precision score for sequence items\n",
      "0.05292003593890387\n",
      "Recall score for sequence items\n",
      "0.2169811320754717\n",
      "F1 score score for sequence items\n",
      "0.08134006834051405\n"
     ]
    },
    {
     "name": "stderr",
     "output_type": "stream",
     "text": [
      "C:\\Users\\filiz\\anaconda3\\lib\\site-packages\\sklearn\\utils\\validation.py:70: FutureWarning: Pass labels=['B-SOURCE', 'B-CUE', 'B-CONTENT', 'I-CONTENT', 'I-CUE', 'I-SOURCE'] as keyword args. From version 1.0 (renaming of 0.25) passing these as positional arguments will result in an error\n",
      "  warnings.warn(f\"Pass {args_msg} as keyword args. From version \"\n",
      "C:\\Users\\filiz\\anaconda3\\lib\\site-packages\\sklearn\\metrics\\_classification.py:1245: UndefinedMetricWarning: Precision and F-score are ill-defined and being set to 0.0 in labels with no predicted samples. Use `zero_division` parameter to control this behavior.\n",
      "  _warn_prf(average, modifier, msg_start, len(result))\n",
      "C:\\Users\\filiz\\anaconda3\\lib\\site-packages\\sklearn\\metrics\\_classification.py:1245: UndefinedMetricWarning: Precision and F-score are ill-defined and being set to 0.0 due to no predicted samples. Use `zero_division` parameter to control this behavior.\n",
      "  _warn_prf(average, modifier, msg_start, len(result))\n",
      "C:\\Users\\filiz\\anaconda3\\lib\\site-packages\\sklearn\\metrics\\_classification.py:1245: UndefinedMetricWarning: Precision and F-score are ill-defined and being set to 0.0 in labels with no predicted samples. Use `zero_division` parameter to control this behavior.\n",
      "  _warn_prf(average, modifier, msg_start, len(result))\n",
      "C:\\Users\\filiz\\anaconda3\\lib\\site-packages\\sklearn\\metrics\\_classification.py:1245: UndefinedMetricWarning: Precision and F-score are ill-defined and being set to 0.0 in labels with no predicted samples. Use `zero_division` parameter to control this behavior.\n",
      "  _warn_prf(average, modifier, msg_start, len(result))\n",
      "C:\\Users\\filiz\\anaconda3\\lib\\site-packages\\sklearn\\metrics\\_classification.py:1245: UndefinedMetricWarning: Precision is ill-defined and being set to 0.0 in labels with no predicted samples. Use `zero_division` parameter to control this behavior.\n",
      "  _warn_prf(average, modifier, msg_start, len(result))\n"
     ]
    }
   ],
   "source": [
    "run_and_evaluate_crf_model(toy_trainingfile, toy_evaluationfile, toy_outputfile)"
   ]
  },
  {
   "cell_type": "markdown",
   "id": "ce1f5bdc",
   "metadata": {},
   "source": [
    "## Set the variables and run the experiments:"
   ]
  },
  {
   "cell_type": "code",
   "execution_count": 22,
   "id": "22d8267f",
   "metadata": {},
   "outputs": [],
   "source": [
    "merged_trainingfile = \"merged_withBIO_train.tsv\"\n",
    "merged_evaluationfile = \"merged_withBIO_dev.tsv\"\n",
    "merged_outputfile = \"merged_output_CRF_Embeddings.tsv\""
   ]
  },
  {
   "cell_type": "code",
   "execution_count": 23,
   "id": "5bab91a6",
   "metadata": {},
   "outputs": [
    {
     "name": "stdout",
     "output_type": "stream",
     "text": [
      "The predictions are written on the output file.\n"
     ]
    },
    {
     "name": "stderr",
     "output_type": "stream",
     "text": [
      "C:\\Users\\filiz\\anaconda3\\lib\\site-packages\\sklearn\\utils\\validation.py:70: FutureWarning: Pass labels=['B-SOURCE', 'B-CUE', 'B-CONTENT', 'I-CONTENT', 'I-CUE', 'I-SOURCE'] as keyword args. From version 1.0 (renaming of 0.25) passing these as positional arguments will result in an error\n",
      "  warnings.warn(f\"Pass {args_msg} as keyword args. From version \"\n"
     ]
    },
    {
     "name": "stdout",
     "output_type": "stream",
     "text": [
      "              precision    recall  f1-score   support\n",
      "\n",
      "    B-SOURCE     0.7825    0.4376    0.5613      2459\n",
      "       B-CUE     0.8355    0.4590    0.5925      2756\n",
      "   B-CONTENT     0.6073    0.3328    0.4300      2737\n",
      "   I-CONTENT     0.7642    0.5906    0.6663     45769\n",
      "       I-CUE     0.4362    0.1391    0.2109      1992\n",
      "    I-SOURCE     0.6753    0.4303    0.5257      5675\n",
      "\n",
      "   micro avg     0.7499    0.5376    0.6262     61388\n",
      "   macro avg     0.6835    0.3982    0.4978     61388\n",
      "weighted avg     0.7423    0.5376    0.6205     61388\n",
      "\n",
      "Accuracy score for sequence items\n",
      "0.6855318192816896\n",
      "Precision score for sequence items\n"
     ]
    },
    {
     "name": "stderr",
     "output_type": "stream",
     "text": [
      "C:\\Users\\filiz\\anaconda3\\lib\\site-packages\\sklearn\\metrics\\_classification.py:1245: UndefinedMetricWarning: Precision is ill-defined and being set to 0.0 in labels with no predicted samples. Use `zero_division` parameter to control this behavior.\n",
      "  _warn_prf(average, modifier, msg_start, len(result))\n"
     ]
    },
    {
     "name": "stdout",
     "output_type": "stream",
     "text": [
      "0.6971034386896819\n",
      "Recall score for sequence items\n",
      "0.6855318192816896\n",
      "F1 score score for sequence items\n",
      "0.6742891885407917\n"
     ]
    }
   ],
   "source": [
    "run_and_evaluate_crf_model(merged_trainingfile, merged_evaluationfile, merged_outputfile)"
   ]
  },
  {
   "cell_type": "markdown",
   "id": "cbb40c5c",
   "metadata": {},
   "source": [
    "End of the notebook."
   ]
  },
  {
   "cell_type": "markdown",
   "id": "170233a9",
   "metadata": {},
   "source": [
    "### References:\n",
    "\n",
    "https://sklearn-crfsuite.readthedocs.io/en/latest/tutorial.html#let-s-use-conll-2002-data-to-build-a-ner-system"
   ]
  },
  {
   "cell_type": "code",
   "execution_count": null,
   "id": "8032d89e",
   "metadata": {},
   "outputs": [],
   "source": []
  }
 ],
 "metadata": {
  "kernelspec": {
   "display_name": "Python 3",
   "language": "python",
   "name": "python3"
  },
  "language_info": {
   "codemirror_mode": {
    "name": "ipython",
    "version": 3
   },
   "file_extension": ".py",
   "mimetype": "text/x-python",
   "name": "python",
   "nbconvert_exporter": "python",
   "pygments_lexer": "ipython3",
   "version": "3.8.8"
  }
 },
 "nbformat": 4,
 "nbformat_minor": 5
}
