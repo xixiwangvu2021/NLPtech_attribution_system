{
 "cells": [
  {
   "cell_type": "markdown",
   "id": "a0714259",
   "metadata": {},
   "source": [
    "# Error Analysis of CRF Output Trained with Merged Data and 50d GloVe Word Embeddings"
   ]
  },
  {
   "cell_type": "markdown",
   "id": "e599564b",
   "metadata": {},
   "source": [
    "Start with imports:"
   ]
  },
  {
   "cell_type": "code",
   "execution_count": 1,
   "id": "51c3d08e",
   "metadata": {},
   "outputs": [],
   "source": [
    "import pandas as pd"
   ]
  },
  {
   "cell_type": "code",
   "execution_count": 2,
   "id": "d427fa30",
   "metadata": {},
   "outputs": [],
   "source": [
    "%matplotlib inline"
   ]
  },
  {
   "cell_type": "markdown",
   "id": "8a314d66",
   "metadata": {},
   "source": [
    "Read the file. Do not use pandas for it because of some lines in the data."
   ]
  },
  {
   "cell_type": "code",
   "execution_count": 3,
   "id": "f567dcd2",
   "metadata": {},
   "outputs": [
    {
     "name": "stdout",
     "output_type": "stream",
     "text": [
      "115716\n"
     ]
    }
   ],
   "source": [
    "with open(\"merged_withBIO_dev.tsv\", \"r\", encoding=\"utf-8\") as data_handle:\n",
    "        # read the lines\n",
    "        gold_text = data_handle.readlines()\n",
    "        print(len(gold_text))"
   ]
  },
  {
   "cell_type": "code",
   "execution_count": 4,
   "id": "521393d7",
   "metadata": {},
   "outputs": [
    {
     "name": "stdout",
     "output_type": "stream",
     "text": [
      "['Word\\tAR_label\\n', 'Stealth\\tO\\n', 'Over\\tO\\n', 'Health\\tO\\n', ':\\tO\\n']\n"
     ]
    }
   ],
   "source": [
    "print(gold_text[:5])"
   ]
  },
  {
   "cell_type": "markdown",
   "id": "374c0625",
   "metadata": {},
   "source": [
    "For example line 77028 is a tweet:"
   ]
  },
  {
   "cell_type": "code",
   "execution_count": 5,
   "id": "a2aee4f4",
   "metadata": {},
   "outputs": [
    {
     "name": "stdout",
     "output_type": "stream",
     "text": [
      "637\n",
      "\"&lt;tweetÂ tweet-author=\"\"Â thatÂ inÂ anÂ apples-to-applesÂ comparison,Â African-AmericanÂ youthÂ haveÂ significantlyÂ worseÂ prospectsÂ inÂ theÂ jobÂ marketÂ thanÂ eitherÂ HispanicsÂ orÂ whitesÂ do.Â TheÂ statementÂ isÂ accurateÂ butÂ needsÂ clarificationÂ orÂ additionalÂ information,Â soÂ weÂ rateÂ itÂ MostlyÂ True\"\"Â tweet-date=\"\"thatÂ inÂ anÂ apples-to-applesÂ comparison,Â African-AmericanÂ youthÂ haveÂ significantlyÂ worseÂ prospectsÂ inÂ theÂ jobÂ marketÂ thanÂ eitherÂ HispanicsÂ orÂ whitesÂ do.Â TheÂ statementÂ isÂ accurateÂ butÂ needsÂ clarificationÂ orÂ additionalÂ information,Â soÂ weÂ rateÂ itÂ MostlyÂ True.\"\"&gt;\"\tO\n",
      "\n",
      "<class 'str'>\n"
     ]
    }
   ],
   "source": [
    "x = gold_text[77028]\n",
    "\n",
    "print(len(x))\n",
    "print(x)\n",
    "print(type(x))"
   ]
  },
  {
   "cell_type": "markdown",
   "id": "b6ef52d2",
   "metadata": {},
   "source": [
    "Create three lists: \n",
    "\n",
    "1. For pairs: Word + label\n",
    "2. Only words\n",
    "3. Only labels"
   ]
  },
  {
   "cell_type": "code",
   "execution_count": 6,
   "id": "64c0b435",
   "metadata": {},
   "outputs": [],
   "source": [
    "gold_pair_list = []\n",
    "gold_word_list = []\n",
    "gold_label_list = []\n",
    "\n",
    "for line in gold_text:\n",
    "    line = line.strip()\n",
    "    line = line.split()\n",
    "    word = line[0]\n",
    "    gold_word_list.append(word)\n",
    "    #take -1 otherwise it fails to pick the label for lines like gold_text[77028].\n",
    "    label = line[-1]\n",
    "    gold_label_list.append(label)\n",
    "    gold_pair = tuple(line)\n",
    "    gold_pair_list.append(gold_pair)"
   ]
  },
  {
   "cell_type": "markdown",
   "id": "97223fe7",
   "metadata": {},
   "source": [
    "Check the outputs:"
   ]
  },
  {
   "cell_type": "code",
   "execution_count": 7,
   "id": "fa62476d",
   "metadata": {},
   "outputs": [
    {
     "name": "stdout",
     "output_type": "stream",
     "text": [
      "115716\n",
      "115716\n",
      "115716\n"
     ]
    }
   ],
   "source": [
    "print(len(gold_pair_list))\n",
    "print(len(gold_word_list))\n",
    "print(len(gold_label_list))"
   ]
  },
  {
   "cell_type": "code",
   "execution_count": 8,
   "id": "167490e9",
   "metadata": {},
   "outputs": [
    {
     "name": "stdout",
     "output_type": "stream",
     "text": [
      "[('Word', 'AR_label'), ('Stealth', 'O'), ('Over', 'O'), ('Health', 'O'), (':', 'O')]\n",
      "('\"&lt;tweetÂ', 'tweet-author=\"\"Â', 'thatÂ', 'inÂ', 'anÂ', 'apples-to-applesÂ', 'comparison,Â', 'African-AmericanÂ', 'youthÂ', 'haveÂ', 'significantlyÂ', 'worseÂ', 'prospectsÂ', 'inÂ', 'theÂ', 'jobÂ', 'marketÂ', 'thanÂ', 'eitherÂ', 'HispanicsÂ', 'orÂ', 'whitesÂ', 'do.Â', 'TheÂ', 'statementÂ', 'isÂ', 'accurateÂ', 'butÂ', 'needsÂ', 'clarificationÂ', 'orÂ', 'additionalÂ', 'information,Â', 'soÂ', 'weÂ', 'rateÂ', 'itÂ', 'MostlyÂ', 'True\"\"Â', 'tweet-date=\"\"thatÂ', 'inÂ', 'anÂ', 'apples-to-applesÂ', 'comparison,Â', 'African-AmericanÂ', 'youthÂ', 'haveÂ', 'significantlyÂ', 'worseÂ', 'prospectsÂ', 'inÂ', 'theÂ', 'jobÂ', 'marketÂ', 'thanÂ', 'eitherÂ', 'HispanicsÂ', 'orÂ', 'whitesÂ', 'do.Â', 'TheÂ', 'statementÂ', 'isÂ', 'accurateÂ', 'butÂ', 'needsÂ', 'clarificationÂ', 'orÂ', 'additionalÂ', 'information,Â', 'soÂ', 'weÂ', 'rateÂ', 'itÂ', 'MostlyÂ', 'True.\"\"&gt;\"', 'O')\n"
     ]
    }
   ],
   "source": [
    "print(gold_pair_list[:5])\n",
    "print(gold_pair_list[77028])"
   ]
  },
  {
   "cell_type": "code",
   "execution_count": 9,
   "id": "7c991282",
   "metadata": {},
   "outputs": [
    {
     "name": "stdout",
     "output_type": "stream",
     "text": [
      "['Word', 'Stealth', 'Over', 'Health', ':']\n",
      "\"&lt;tweetÂ\n"
     ]
    }
   ],
   "source": [
    "print(gold_word_list[:5])\n",
    "print(gold_word_list[77028])"
   ]
  },
  {
   "cell_type": "code",
   "execution_count": 10,
   "id": "4192e95a",
   "metadata": {},
   "outputs": [
    {
     "name": "stdout",
     "output_type": "stream",
     "text": [
      "['AR_label', 'O', 'O', 'O', 'O']\n",
      "O\n"
     ]
    }
   ],
   "source": [
    "print(gold_label_list[:5])\n",
    "\n",
    "print(gold_label_list[77028])"
   ]
  },
  {
   "cell_type": "markdown",
   "id": "291ed293",
   "metadata": {},
   "source": [
    "Apply the same procedure to model predictions file:"
   ]
  },
  {
   "cell_type": "code",
   "execution_count": 11,
   "id": "ba3d645d",
   "metadata": {},
   "outputs": [
    {
     "name": "stdout",
     "output_type": "stream",
     "text": [
      "115716\n"
     ]
    }
   ],
   "source": [
    "with open(\"merged_output_CRF_Embeddings.tsv\", \"r\", encoding=\"utf-8\") as data_handle:\n",
    "        # read the lines\n",
    "        pred_text = data_handle.readlines()\n",
    "        print(len(pred_text))"
   ]
  },
  {
   "cell_type": "code",
   "execution_count": 12,
   "id": "d7fa1c0d",
   "metadata": {},
   "outputs": [],
   "source": [
    "pred_pair_list = []\n",
    "pred_word_list = []\n",
    "pred_label_list = []\n",
    "\n",
    "for line in pred_text:\n",
    "    line = line.strip()\n",
    "    line = line.split()\n",
    "    word = line[0]\n",
    "    pred_word_list.append(word)\n",
    "    label = line[-1]\n",
    "    pred_label_list.append(label)\n",
    "    pred_pair = tuple(line)\n",
    "    pred_pair_list.append(pred_pair)"
   ]
  },
  {
   "cell_type": "code",
   "execution_count": 13,
   "id": "adcfc20d",
   "metadata": {},
   "outputs": [
    {
     "name": "stdout",
     "output_type": "stream",
     "text": [
      "115716\n",
      "115716\n",
      "115716\n",
      "[('word', 'O'), ('stealth', 'O'), ('over', 'O'), ('health', 'O'), (':', 'O')]\n",
      "['word', 'stealth', 'over', 'health', ':']\n",
      "['O', 'O', 'O', 'O', 'O']\n"
     ]
    }
   ],
   "source": [
    "print(len(pred_pair_list))\n",
    "print(len(pred_word_list))\n",
    "print(len(pred_label_list))\n",
    "print(pred_pair_list[:5])\n",
    "print(pred_word_list[:5])\n",
    "print(pred_label_list[:5])"
   ]
  },
  {
   "cell_type": "markdown",
   "id": "9dcdb6fa",
   "metadata": {},
   "source": [
    "Create a data frame:"
   ]
  },
  {
   "cell_type": "code",
   "execution_count": 14,
   "id": "46e43a0b",
   "metadata": {},
   "outputs": [
    {
     "data": {
      "text/html": [
       "<div>\n",
       "<style scoped>\n",
       "    .dataframe tbody tr th:only-of-type {\n",
       "        vertical-align: middle;\n",
       "    }\n",
       "\n",
       "    .dataframe tbody tr th {\n",
       "        vertical-align: top;\n",
       "    }\n",
       "\n",
       "    .dataframe thead th {\n",
       "        text-align: right;\n",
       "    }\n",
       "</style>\n",
       "<table border=\"1\" class=\"dataframe\">\n",
       "  <thead>\n",
       "    <tr style=\"text-align: right;\">\n",
       "      <th></th>\n",
       "      <th>Gold_word</th>\n",
       "      <th>Gold_label</th>\n",
       "      <th>Pred_word</th>\n",
       "      <th>Pred_label</th>\n",
       "    </tr>\n",
       "  </thead>\n",
       "  <tbody>\n",
       "    <tr>\n",
       "      <th>0</th>\n",
       "      <td>Word</td>\n",
       "      <td>AR_label</td>\n",
       "      <td>word</td>\n",
       "      <td>O</td>\n",
       "    </tr>\n",
       "    <tr>\n",
       "      <th>1</th>\n",
       "      <td>Stealth</td>\n",
       "      <td>O</td>\n",
       "      <td>stealth</td>\n",
       "      <td>O</td>\n",
       "    </tr>\n",
       "    <tr>\n",
       "      <th>2</th>\n",
       "      <td>Over</td>\n",
       "      <td>O</td>\n",
       "      <td>over</td>\n",
       "      <td>O</td>\n",
       "    </tr>\n",
       "    <tr>\n",
       "      <th>3</th>\n",
       "      <td>Health</td>\n",
       "      <td>O</td>\n",
       "      <td>health</td>\n",
       "      <td>O</td>\n",
       "    </tr>\n",
       "    <tr>\n",
       "      <th>4</th>\n",
       "      <td>:</td>\n",
       "      <td>O</td>\n",
       "      <td>:</td>\n",
       "      <td>O</td>\n",
       "    </tr>\n",
       "    <tr>\n",
       "      <th>...</th>\n",
       "      <td>...</td>\n",
       "      <td>...</td>\n",
       "      <td>...</td>\n",
       "      <td>...</td>\n",
       "    </tr>\n",
       "    <tr>\n",
       "      <th>115711</th>\n",
       "      <td>them</td>\n",
       "      <td>I-CONTENT</td>\n",
       "      <td>them</td>\n",
       "      <td>I-CONTENT</td>\n",
       "    </tr>\n",
       "    <tr>\n",
       "      <th>115712</th>\n",
       "      <td>here</td>\n",
       "      <td>I-CONTENT</td>\n",
       "      <td>here</td>\n",
       "      <td>I-CONTENT</td>\n",
       "    </tr>\n",
       "    <tr>\n",
       "      <th>115713</th>\n",
       "      <td>with</td>\n",
       "      <td>I-CONTENT</td>\n",
       "      <td>with</td>\n",
       "      <td>I-CONTENT</td>\n",
       "    </tr>\n",
       "    <tr>\n",
       "      <th>115714</th>\n",
       "      <td>us</td>\n",
       "      <td>I-CONTENT</td>\n",
       "      <td>us</td>\n",
       "      <td>I-CONTENT</td>\n",
       "    </tr>\n",
       "    <tr>\n",
       "      <th>115715</th>\n",
       "      <td>Sent_end</td>\n",
       "      <td>O</td>\n",
       "      <td>sent_end</td>\n",
       "      <td>O</td>\n",
       "    </tr>\n",
       "  </tbody>\n",
       "</table>\n",
       "<p>115716 rows × 4 columns</p>\n",
       "</div>"
      ],
      "text/plain": [
       "       Gold_word Gold_label Pred_word Pred_label\n",
       "0           Word   AR_label      word          O\n",
       "1        Stealth          O   stealth          O\n",
       "2           Over          O      over          O\n",
       "3         Health          O    health          O\n",
       "4              :          O         :          O\n",
       "...          ...        ...       ...        ...\n",
       "115711      them  I-CONTENT      them  I-CONTENT\n",
       "115712      here  I-CONTENT      here  I-CONTENT\n",
       "115713      with  I-CONTENT      with  I-CONTENT\n",
       "115714        us  I-CONTENT        us  I-CONTENT\n",
       "115715  Sent_end          O  sent_end          O\n",
       "\n",
       "[115716 rows x 4 columns]"
      ]
     },
     "execution_count": 14,
     "metadata": {},
     "output_type": "execute_result"
    }
   ],
   "source": [
    "df = pd.DataFrame(list(zip(gold_word_list, gold_label_list, pred_word_list, pred_label_list)),\n",
    "               columns =['Gold_word', 'Gold_label', 'Pred_word', 'Pred_label'])\n",
    "df"
   ]
  },
  {
   "cell_type": "code",
   "execution_count": 15,
   "id": "770813d4",
   "metadata": {},
   "outputs": [
    {
     "name": "stdout",
     "output_type": "stream",
     "text": [
      "115716\n"
     ]
    }
   ],
   "source": [
    "print(len(df.index))"
   ]
  },
  {
   "cell_type": "markdown",
   "id": "9a68cfcb",
   "metadata": {},
   "source": [
    "In order to be able to compare the columns, lowercase the Gold_word:"
   ]
  },
  {
   "cell_type": "code",
   "execution_count": 16,
   "id": "5641d28a",
   "metadata": {},
   "outputs": [],
   "source": [
    "df[\"Gold_word\"] = df[\"Gold_word\"].apply(str.lower)"
   ]
  },
  {
   "cell_type": "code",
   "execution_count": 17,
   "id": "6c191961",
   "metadata": {},
   "outputs": [
    {
     "data": {
      "text/html": [
       "<div>\n",
       "<style scoped>\n",
       "    .dataframe tbody tr th:only-of-type {\n",
       "        vertical-align: middle;\n",
       "    }\n",
       "\n",
       "    .dataframe tbody tr th {\n",
       "        vertical-align: top;\n",
       "    }\n",
       "\n",
       "    .dataframe thead th {\n",
       "        text-align: right;\n",
       "    }\n",
       "</style>\n",
       "<table border=\"1\" class=\"dataframe\">\n",
       "  <thead>\n",
       "    <tr style=\"text-align: right;\">\n",
       "      <th></th>\n",
       "      <th>Gold_word</th>\n",
       "      <th>Gold_label</th>\n",
       "      <th>Pred_word</th>\n",
       "      <th>Pred_label</th>\n",
       "    </tr>\n",
       "  </thead>\n",
       "  <tbody>\n",
       "    <tr>\n",
       "      <th>0</th>\n",
       "      <td>word</td>\n",
       "      <td>AR_label</td>\n",
       "      <td>word</td>\n",
       "      <td>O</td>\n",
       "    </tr>\n",
       "    <tr>\n",
       "      <th>1</th>\n",
       "      <td>stealth</td>\n",
       "      <td>O</td>\n",
       "      <td>stealth</td>\n",
       "      <td>O</td>\n",
       "    </tr>\n",
       "    <tr>\n",
       "      <th>2</th>\n",
       "      <td>over</td>\n",
       "      <td>O</td>\n",
       "      <td>over</td>\n",
       "      <td>O</td>\n",
       "    </tr>\n",
       "    <tr>\n",
       "      <th>3</th>\n",
       "      <td>health</td>\n",
       "      <td>O</td>\n",
       "      <td>health</td>\n",
       "      <td>O</td>\n",
       "    </tr>\n",
       "    <tr>\n",
       "      <th>4</th>\n",
       "      <td>:</td>\n",
       "      <td>O</td>\n",
       "      <td>:</td>\n",
       "      <td>O</td>\n",
       "    </tr>\n",
       "    <tr>\n",
       "      <th>...</th>\n",
       "      <td>...</td>\n",
       "      <td>...</td>\n",
       "      <td>...</td>\n",
       "      <td>...</td>\n",
       "    </tr>\n",
       "    <tr>\n",
       "      <th>115711</th>\n",
       "      <td>them</td>\n",
       "      <td>I-CONTENT</td>\n",
       "      <td>them</td>\n",
       "      <td>I-CONTENT</td>\n",
       "    </tr>\n",
       "    <tr>\n",
       "      <th>115712</th>\n",
       "      <td>here</td>\n",
       "      <td>I-CONTENT</td>\n",
       "      <td>here</td>\n",
       "      <td>I-CONTENT</td>\n",
       "    </tr>\n",
       "    <tr>\n",
       "      <th>115713</th>\n",
       "      <td>with</td>\n",
       "      <td>I-CONTENT</td>\n",
       "      <td>with</td>\n",
       "      <td>I-CONTENT</td>\n",
       "    </tr>\n",
       "    <tr>\n",
       "      <th>115714</th>\n",
       "      <td>us</td>\n",
       "      <td>I-CONTENT</td>\n",
       "      <td>us</td>\n",
       "      <td>I-CONTENT</td>\n",
       "    </tr>\n",
       "    <tr>\n",
       "      <th>115715</th>\n",
       "      <td>sent_end</td>\n",
       "      <td>O</td>\n",
       "      <td>sent_end</td>\n",
       "      <td>O</td>\n",
       "    </tr>\n",
       "  </tbody>\n",
       "</table>\n",
       "<p>115716 rows × 4 columns</p>\n",
       "</div>"
      ],
      "text/plain": [
       "       Gold_word Gold_label Pred_word Pred_label\n",
       "0           word   AR_label      word          O\n",
       "1        stealth          O   stealth          O\n",
       "2           over          O      over          O\n",
       "3         health          O    health          O\n",
       "4              :          O         :          O\n",
       "...          ...        ...       ...        ...\n",
       "115711      them  I-CONTENT      them  I-CONTENT\n",
       "115712      here  I-CONTENT      here  I-CONTENT\n",
       "115713      with  I-CONTENT      with  I-CONTENT\n",
       "115714        us  I-CONTENT        us  I-CONTENT\n",
       "115715  sent_end          O  sent_end          O\n",
       "\n",
       "[115716 rows x 4 columns]"
      ]
     },
     "execution_count": 17,
     "metadata": {},
     "output_type": "execute_result"
    }
   ],
   "source": [
    "df"
   ]
  },
  {
   "cell_type": "markdown",
   "id": "5b8062ab",
   "metadata": {},
   "source": [
    "Compare the columns:"
   ]
  },
  {
   "cell_type": "code",
   "execution_count": 18,
   "id": "9cd87ccd",
   "metadata": {},
   "outputs": [
    {
     "data": {
      "text/plain": [
       "False"
      ]
     },
     "execution_count": 18,
     "metadata": {},
     "output_type": "execute_result"
    }
   ],
   "source": [
    "df['Gold_word'].equals(df['Pred_word'])"
   ]
  },
  {
   "cell_type": "markdown",
   "id": "f7185107",
   "metadata": {},
   "source": [
    "Find where the differences are:"
   ]
  },
  {
   "cell_type": "code",
   "execution_count": 19,
   "id": "f3f965c6",
   "metadata": {},
   "outputs": [
    {
     "data": {
      "text/html": [
       "<div>\n",
       "<style scoped>\n",
       "    .dataframe tbody tr th:only-of-type {\n",
       "        vertical-align: middle;\n",
       "    }\n",
       "\n",
       "    .dataframe tbody tr th {\n",
       "        vertical-align: top;\n",
       "    }\n",
       "\n",
       "    .dataframe thead th {\n",
       "        text-align: right;\n",
       "    }\n",
       "</style>\n",
       "<table border=\"1\" class=\"dataframe\">\n",
       "  <thead>\n",
       "    <tr style=\"text-align: right;\">\n",
       "      <th></th>\n",
       "      <th>self</th>\n",
       "      <th>other</th>\n",
       "    </tr>\n",
       "  </thead>\n",
       "  <tbody>\n",
       "    <tr>\n",
       "      <th>11675</th>\n",
       "      <td>\"&amp;lt;tweetâ</td>\n",
       "      <td>&amp;lt;tweetâ</td>\n",
       "    </tr>\n",
       "    <tr>\n",
       "      <th>77028</th>\n",
       "      <td>\"&amp;lt;tweetâ</td>\n",
       "      <td>&amp;lt;tweetâ</td>\n",
       "    </tr>\n",
       "    <tr>\n",
       "      <th>81496</th>\n",
       "      <td>\"&amp;lt;tweetâ</td>\n",
       "      <td>&amp;lt;tweetâ</td>\n",
       "    </tr>\n",
       "    <tr>\n",
       "      <th>81500</th>\n",
       "      <td>\"&amp;lt;tweetâ</td>\n",
       "      <td>&amp;lt;tweetâ</td>\n",
       "    </tr>\n",
       "    <tr>\n",
       "      <th>81504</th>\n",
       "      <td>\"&amp;lt;tweetâ</td>\n",
       "      <td>&amp;lt;tweetâ</td>\n",
       "    </tr>\n",
       "    <tr>\n",
       "      <th>81508</th>\n",
       "      <td>\"&amp;lt;tweetâ</td>\n",
       "      <td>&amp;lt;tweetâ</td>\n",
       "    </tr>\n",
       "    <tr>\n",
       "      <th>81759</th>\n",
       "      <td>\"\"\"\"</td>\n",
       "      <td>\"</td>\n",
       "    </tr>\n",
       "    <tr>\n",
       "      <th>81767</th>\n",
       "      <td>\"\"\"\"</td>\n",
       "      <td>\"</td>\n",
       "    </tr>\n",
       "    <tr>\n",
       "      <th>81840</th>\n",
       "      <td>\"\"\"\"</td>\n",
       "      <td>\"</td>\n",
       "    </tr>\n",
       "    <tr>\n",
       "      <th>81863</th>\n",
       "      <td>\"\"\"\"</td>\n",
       "      <td>\"</td>\n",
       "    </tr>\n",
       "    <tr>\n",
       "      <th>82050</th>\n",
       "      <td>\"\"\"\"</td>\n",
       "      <td>\"</td>\n",
       "    </tr>\n",
       "    <tr>\n",
       "      <th>82070</th>\n",
       "      <td>\"\"\"\"</td>\n",
       "      <td>\"</td>\n",
       "    </tr>\n",
       "    <tr>\n",
       "      <th>82109</th>\n",
       "      <td>\"\"\"\"</td>\n",
       "      <td>\"</td>\n",
       "    </tr>\n",
       "    <tr>\n",
       "      <th>82113</th>\n",
       "      <td>\"\"\"\"</td>\n",
       "      <td>\"</td>\n",
       "    </tr>\n",
       "  </tbody>\n",
       "</table>\n",
       "</div>"
      ],
      "text/plain": [
       "              self       other\n",
       "11675  \"&lt;tweetâ  &lt;tweetâ\n",
       "77028  \"&lt;tweetâ  &lt;tweetâ\n",
       "81496  \"&lt;tweetâ  &lt;tweetâ\n",
       "81500  \"&lt;tweetâ  &lt;tweetâ\n",
       "81504  \"&lt;tweetâ  &lt;tweetâ\n",
       "81508  \"&lt;tweetâ  &lt;tweetâ\n",
       "81759         \"\"\"\"           \"\n",
       "81767         \"\"\"\"           \"\n",
       "81840         \"\"\"\"           \"\n",
       "81863         \"\"\"\"           \"\n",
       "82050         \"\"\"\"           \"\n",
       "82070         \"\"\"\"           \"\n",
       "82109         \"\"\"\"           \"\n",
       "82113         \"\"\"\"           \""
      ]
     },
     "execution_count": 19,
     "metadata": {},
     "output_type": "execute_result"
    }
   ],
   "source": [
    "df['Gold_word'].compare(df['Pred_word'])"
   ]
  },
  {
   "cell_type": "markdown",
   "id": "9a3bcb83",
   "metadata": {},
   "source": [
    "There is no real difference between the columns. Some lines with tweets and quatation marks result in different. Therefore, it is OK to drop the Pred_word column. "
   ]
  },
  {
   "cell_type": "code",
   "execution_count": 20,
   "id": "e1b507f5",
   "metadata": {},
   "outputs": [],
   "source": [
    "df.drop([\"Pred_word\"], axis=1, inplace=True)"
   ]
  },
  {
   "cell_type": "markdown",
   "id": "6e251fc1",
   "metadata": {},
   "source": [
    "Now we can start comparing gold labels and system predictions:"
   ]
  },
  {
   "cell_type": "code",
   "execution_count": 21,
   "id": "6cf52d4b",
   "metadata": {},
   "outputs": [
    {
     "data": {
      "text/html": [
       "<div>\n",
       "<style scoped>\n",
       "    .dataframe tbody tr th:only-of-type {\n",
       "        vertical-align: middle;\n",
       "    }\n",
       "\n",
       "    .dataframe tbody tr th {\n",
       "        vertical-align: top;\n",
       "    }\n",
       "\n",
       "    .dataframe thead th {\n",
       "        text-align: right;\n",
       "    }\n",
       "</style>\n",
       "<table border=\"1\" class=\"dataframe\">\n",
       "  <thead>\n",
       "    <tr style=\"text-align: right;\">\n",
       "      <th></th>\n",
       "      <th>self</th>\n",
       "      <th>other</th>\n",
       "    </tr>\n",
       "  </thead>\n",
       "  <tbody>\n",
       "    <tr>\n",
       "      <th>0</th>\n",
       "      <td>AR_label</td>\n",
       "      <td>O</td>\n",
       "    </tr>\n",
       "    <tr>\n",
       "      <th>58</th>\n",
       "      <td>B-CONTENT</td>\n",
       "      <td>O</td>\n",
       "    </tr>\n",
       "    <tr>\n",
       "      <th>59</th>\n",
       "      <td>I-CONTENT</td>\n",
       "      <td>O</td>\n",
       "    </tr>\n",
       "    <tr>\n",
       "      <th>60</th>\n",
       "      <td>I-CONTENT</td>\n",
       "      <td>O</td>\n",
       "    </tr>\n",
       "    <tr>\n",
       "      <th>61</th>\n",
       "      <td>I-CONTENT</td>\n",
       "      <td>O</td>\n",
       "    </tr>\n",
       "    <tr>\n",
       "      <th>...</th>\n",
       "      <td>...</td>\n",
       "      <td>...</td>\n",
       "    </tr>\n",
       "    <tr>\n",
       "      <th>115680</th>\n",
       "      <td>I-SOURCE</td>\n",
       "      <td>O</td>\n",
       "    </tr>\n",
       "    <tr>\n",
       "      <th>115681</th>\n",
       "      <td>I-SOURCE</td>\n",
       "      <td>O</td>\n",
       "    </tr>\n",
       "    <tr>\n",
       "      <th>115682</th>\n",
       "      <td>I-SOURCE</td>\n",
       "      <td>O</td>\n",
       "    </tr>\n",
       "    <tr>\n",
       "      <th>115683</th>\n",
       "      <td>I-SOURCE</td>\n",
       "      <td>O</td>\n",
       "    </tr>\n",
       "    <tr>\n",
       "      <th>115686</th>\n",
       "      <td>I-CONTENT</td>\n",
       "      <td>B-CONTENT</td>\n",
       "    </tr>\n",
       "  </tbody>\n",
       "</table>\n",
       "<p>36389 rows × 2 columns</p>\n",
       "</div>"
      ],
      "text/plain": [
       "             self      other\n",
       "0        AR_label          O\n",
       "58      B-CONTENT          O\n",
       "59      I-CONTENT          O\n",
       "60      I-CONTENT          O\n",
       "61      I-CONTENT          O\n",
       "...           ...        ...\n",
       "115680   I-SOURCE          O\n",
       "115681   I-SOURCE          O\n",
       "115682   I-SOURCE          O\n",
       "115683   I-SOURCE          O\n",
       "115686  I-CONTENT  B-CONTENT\n",
       "\n",
       "[36389 rows x 2 columns]"
      ]
     },
     "execution_count": 21,
     "metadata": {},
     "output_type": "execute_result"
    }
   ],
   "source": [
    "df['Gold_label'].compare(df['Pred_label'])"
   ]
  },
  {
   "cell_type": "markdown",
   "id": "ca26841a",
   "metadata": {},
   "source": [
    "It shows that the system makes 36389 predicitons which are different than gold. "
   ]
  },
  {
   "cell_type": "markdown",
   "id": "c1ac64fe",
   "metadata": {},
   "source": [
    "Create a new data frame with unmatching predictions: Errors"
   ]
  },
  {
   "cell_type": "code",
   "execution_count": 22,
   "id": "96c5e112",
   "metadata": {},
   "outputs": [],
   "source": [
    "df_error = df.query('Gold_label != Pred_label')"
   ]
  },
  {
   "cell_type": "code",
   "execution_count": 23,
   "id": "dd44ab7d",
   "metadata": {},
   "outputs": [
    {
     "data": {
      "text/plain": [
       "I-CONTENT    18737\n",
       "O             8003\n",
       "I-SOURCE      3233\n",
       "B-CONTENT     1826\n",
       "I-CUE         1715\n",
       "B-CUE         1491\n",
       "B-SOURCE      1383\n",
       "AR_label         1\n",
       "Name: Gold_label, dtype: int64"
      ]
     },
     "execution_count": 23,
     "metadata": {},
     "output_type": "execute_result"
    }
   ],
   "source": [
    "df_error['Gold_label'].value_counts()"
   ]
  },
  {
   "cell_type": "code",
   "execution_count": 24,
   "id": "320f30be",
   "metadata": {},
   "outputs": [
    {
     "data": {
      "text/html": [
       "<div>\n",
       "<style scoped>\n",
       "    .dataframe tbody tr th:only-of-type {\n",
       "        vertical-align: middle;\n",
       "    }\n",
       "\n",
       "    .dataframe tbody tr th {\n",
       "        vertical-align: top;\n",
       "    }\n",
       "\n",
       "    .dataframe thead th {\n",
       "        text-align: right;\n",
       "    }\n",
       "</style>\n",
       "<table border=\"1\" class=\"dataframe\">\n",
       "  <thead>\n",
       "    <tr style=\"text-align: right;\">\n",
       "      <th></th>\n",
       "      <th>Gold_word</th>\n",
       "      <th>Gold_label</th>\n",
       "      <th>Pred_label</th>\n",
       "    </tr>\n",
       "  </thead>\n",
       "  <tbody>\n",
       "    <tr>\n",
       "      <th>0</th>\n",
       "      <td>word</td>\n",
       "      <td>AR_label</td>\n",
       "      <td>O</td>\n",
       "    </tr>\n",
       "    <tr>\n",
       "      <th>58</th>\n",
       "      <td>hillary</td>\n",
       "      <td>B-CONTENT</td>\n",
       "      <td>O</td>\n",
       "    </tr>\n",
       "    <tr>\n",
       "      <th>59</th>\n",
       "      <td>clinton</td>\n",
       "      <td>I-CONTENT</td>\n",
       "      <td>O</td>\n",
       "    </tr>\n",
       "    <tr>\n",
       "      <th>60</th>\n",
       "      <td>was</td>\n",
       "      <td>I-CONTENT</td>\n",
       "      <td>O</td>\n",
       "    </tr>\n",
       "    <tr>\n",
       "      <th>61</th>\n",
       "      <td>headed</td>\n",
       "      <td>I-CONTENT</td>\n",
       "      <td>O</td>\n",
       "    </tr>\n",
       "    <tr>\n",
       "      <th>...</th>\n",
       "      <td>...</td>\n",
       "      <td>...</td>\n",
       "      <td>...</td>\n",
       "    </tr>\n",
       "    <tr>\n",
       "      <th>115680</th>\n",
       "      <td>who</td>\n",
       "      <td>I-SOURCE</td>\n",
       "      <td>O</td>\n",
       "    </tr>\n",
       "    <tr>\n",
       "      <th>115681</th>\n",
       "      <td>is</td>\n",
       "      <td>I-SOURCE</td>\n",
       "      <td>O</td>\n",
       "    </tr>\n",
       "    <tr>\n",
       "      <th>115682</th>\n",
       "      <td>now</td>\n",
       "      <td>I-SOURCE</td>\n",
       "      <td>O</td>\n",
       "    </tr>\n",
       "    <tr>\n",
       "      <th>115683</th>\n",
       "      <td>63</td>\n",
       "      <td>I-SOURCE</td>\n",
       "      <td>O</td>\n",
       "    </tr>\n",
       "    <tr>\n",
       "      <th>115686</th>\n",
       "      <td>``</td>\n",
       "      <td>I-CONTENT</td>\n",
       "      <td>B-CONTENT</td>\n",
       "    </tr>\n",
       "  </tbody>\n",
       "</table>\n",
       "<p>36389 rows × 3 columns</p>\n",
       "</div>"
      ],
      "text/plain": [
       "       Gold_word Gold_label Pred_label\n",
       "0           word   AR_label          O\n",
       "58       hillary  B-CONTENT          O\n",
       "59       clinton  I-CONTENT          O\n",
       "60           was  I-CONTENT          O\n",
       "61        headed  I-CONTENT          O\n",
       "...          ...        ...        ...\n",
       "115680       who   I-SOURCE          O\n",
       "115681        is   I-SOURCE          O\n",
       "115682       now   I-SOURCE          O\n",
       "115683        63   I-SOURCE          O\n",
       "115686        ``  I-CONTENT  B-CONTENT\n",
       "\n",
       "[36389 rows x 3 columns]"
      ]
     },
     "execution_count": 24,
     "metadata": {},
     "output_type": "execute_result"
    }
   ],
   "source": [
    "df_error"
   ]
  },
  {
   "cell_type": "code",
   "execution_count": 25,
   "id": "4c748f22",
   "metadata": {},
   "outputs": [],
   "source": [
    "df_error.to_csv(\"error_analysis_merged_output\", sep = '\\t', index=False)"
   ]
  },
  {
   "cell_type": "markdown",
   "id": "80b07db1",
   "metadata": {},
   "source": [
    "Just to make sure that labels are OK:"
   ]
  },
  {
   "cell_type": "code",
   "execution_count": 27,
   "id": "ba64ce21",
   "metadata": {},
   "outputs": [
    {
     "name": "stdout",
     "output_type": "stream",
     "text": [
      "{'O', 'I-SOURCE', 'B-CUE', 'I-CONTENT', 'B-SOURCE', 'B-CONTENT', 'I-CUE'}\n"
     ]
    }
   ],
   "source": [
    "labels_error = set(df_error[\"Pred_label\"].values.tolist())\n",
    "print(labels_error)"
   ]
  },
  {
   "cell_type": "code",
   "execution_count": 28,
   "id": "0998624f",
   "metadata": {},
   "outputs": [
    {
     "data": {
      "text/plain": [
       "<AxesSubplot:>"
      ]
     },
     "execution_count": 28,
     "metadata": {},
     "output_type": "execute_result"
    },
    {
     "data": {
      "image/png": "[encoded data removed]",
      "text/plain": [
       "<Figure size 432x288 with 1 Axes>"
      ]
     },
     "metadata": {
      "needs_background": "light"
     },
     "output_type": "display_data"
    }
   ],
   "source": [
    "bins_error = df_error[\"Gold_label\"].value_counts()\n",
    "total_error = df_error[\"Gold_label\"].count()\n",
    "bins_error = bins_error.apply(lambda x: float(x)/total_error)\n",
    "\n",
    "# Histogram of the classes\n",
    "df_error[\"Gold_label\"].value_counts().plot(kind=\"bar\")\n",
    "df_error[\"Gold_label\"].value_counts().drop(\"AR_label\", axis=0).plot(kind='bar')"
   ]
  },
  {
   "cell_type": "markdown",
   "id": "c7d3ecc7",
   "metadata": {},
   "source": [
    "The bar chart above shows the distribution of errors per category."
   ]
  },
  {
   "cell_type": "code",
   "execution_count": 29,
   "id": "b691c26e",
   "metadata": {},
   "outputs": [
    {
     "data": {
      "text/plain": [
       "<AxesSubplot:>"
      ]
     },
     "execution_count": 29,
     "metadata": {},
     "output_type": "execute_result"
    },
    {
     "data": {
      "image/png": "[encoded data removed]",
      "text/plain": [
       "<Figure size 432x288 with 1 Axes>"
      ]
     },
     "metadata": {
      "needs_background": "light"
     },
     "output_type": "display_data"
    }
   ],
   "source": [
    "bins_error = df_error[\"Pred_label\"].value_counts()\n",
    "total_error = df_error[\"Pred_label\"].count()\n",
    "bins_error = bins_error.apply(lambda x: float(x)/total_error)\n",
    "\n",
    "# Histogram of the classes\n",
    "df_error[\"Pred_label\"].value_counts().plot(kind=\"bar\")"
   ]
  },
  {
   "cell_type": "markdown",
   "id": "adcdbbdb",
   "metadata": {},
   "source": [
    "The bar chart above shows the distribution of incorrect system predicitons per category."
   ]
  },
  {
   "cell_type": "markdown",
   "id": "435292cb",
   "metadata": {},
   "source": [
    "#### Generate data frames per category:"
   ]
  },
  {
   "cell_type": "code",
   "execution_count": 30,
   "id": "2fa38885",
   "metadata": {},
   "outputs": [],
   "source": [
    "df_O = df_error.loc[df_error['Pred_label'] == \"O\"]"
   ]
  },
  {
   "cell_type": "code",
   "execution_count": 31,
   "id": "6a37e185",
   "metadata": {},
   "outputs": [],
   "source": [
    "df_O = df_O.sort_values(by=['Gold_label'])"
   ]
  },
  {
   "cell_type": "code",
   "execution_count": 32,
   "id": "04c82b7f",
   "metadata": {},
   "outputs": [
    {
     "data": {
      "text/plain": [
       "I-CONTENT    17859\n",
       "I-SOURCE      2729\n",
       "B-CONTENT     1303\n",
       "I-CUE         1280\n",
       "B-CUE         1132\n",
       "B-SOURCE      1076\n",
       "AR_label         1\n",
       "Name: Gold_label, dtype: int64"
      ]
     },
     "execution_count": 32,
     "metadata": {},
     "output_type": "execute_result"
    }
   ],
   "source": [
    "df_O['Gold_label'].value_counts()"
   ]
  },
  {
   "cell_type": "code",
   "execution_count": 33,
   "id": "d93da52d",
   "metadata": {},
   "outputs": [
    {
     "data": {
      "text/html": [
       "<div>\n",
       "<style scoped>\n",
       "    .dataframe tbody tr th:only-of-type {\n",
       "        vertical-align: middle;\n",
       "    }\n",
       "\n",
       "    .dataframe tbody tr th {\n",
       "        vertical-align: top;\n",
       "    }\n",
       "\n",
       "    .dataframe thead th {\n",
       "        text-align: right;\n",
       "    }\n",
       "</style>\n",
       "<table border=\"1\" class=\"dataframe\">\n",
       "  <thead>\n",
       "    <tr style=\"text-align: right;\">\n",
       "      <th></th>\n",
       "      <th>Gold_word</th>\n",
       "      <th>Gold_label</th>\n",
       "      <th>Pred_label</th>\n",
       "    </tr>\n",
       "  </thead>\n",
       "  <tbody>\n",
       "    <tr>\n",
       "      <th>0</th>\n",
       "      <td>word</td>\n",
       "      <td>AR_label</td>\n",
       "      <td>O</td>\n",
       "    </tr>\n",
       "    <tr>\n",
       "      <th>33433</th>\n",
       "      <td>a</td>\n",
       "      <td>B-CONTENT</td>\n",
       "      <td>O</td>\n",
       "    </tr>\n",
       "    <tr>\n",
       "      <th>33456</th>\n",
       "      <td>it</td>\n",
       "      <td>B-CONTENT</td>\n",
       "      <td>O</td>\n",
       "    </tr>\n",
       "    <tr>\n",
       "      <th>77218</th>\n",
       "      <td>``</td>\n",
       "      <td>B-CONTENT</td>\n",
       "      <td>O</td>\n",
       "    </tr>\n",
       "    <tr>\n",
       "      <th>77173</th>\n",
       "      <td>the</td>\n",
       "      <td>B-CONTENT</td>\n",
       "      <td>O</td>\n",
       "    </tr>\n",
       "    <tr>\n",
       "      <th>...</th>\n",
       "      <td>...</td>\n",
       "      <td>...</td>\n",
       "      <td>...</td>\n",
       "    </tr>\n",
       "    <tr>\n",
       "      <th>105932</th>\n",
       "      <td>real</td>\n",
       "      <td>I-SOURCE</td>\n",
       "      <td>O</td>\n",
       "    </tr>\n",
       "    <tr>\n",
       "      <th>105933</th>\n",
       "      <td>estate</td>\n",
       "      <td>I-SOURCE</td>\n",
       "      <td>O</td>\n",
       "    </tr>\n",
       "    <tr>\n",
       "      <th>105934</th>\n",
       "      <td>and</td>\n",
       "      <td>I-SOURCE</td>\n",
       "      <td>O</td>\n",
       "    </tr>\n",
       "    <tr>\n",
       "      <th>83766</th>\n",
       "      <td>and</td>\n",
       "      <td>I-SOURCE</td>\n",
       "      <td>O</td>\n",
       "    </tr>\n",
       "    <tr>\n",
       "      <th>115683</th>\n",
       "      <td>63</td>\n",
       "      <td>I-SOURCE</td>\n",
       "      <td>O</td>\n",
       "    </tr>\n",
       "  </tbody>\n",
       "</table>\n",
       "<p>25380 rows × 3 columns</p>\n",
       "</div>"
      ],
      "text/plain": [
       "       Gold_word Gold_label Pred_label\n",
       "0           word   AR_label          O\n",
       "33433          a  B-CONTENT          O\n",
       "33456         it  B-CONTENT          O\n",
       "77218         ``  B-CONTENT          O\n",
       "77173        the  B-CONTENT          O\n",
       "...          ...        ...        ...\n",
       "105932      real   I-SOURCE          O\n",
       "105933    estate   I-SOURCE          O\n",
       "105934       and   I-SOURCE          O\n",
       "83766        and   I-SOURCE          O\n",
       "115683        63   I-SOURCE          O\n",
       "\n",
       "[25380 rows x 3 columns]"
      ]
     },
     "execution_count": 33,
     "metadata": {},
     "output_type": "execute_result"
    }
   ],
   "source": [
    "df_O"
   ]
  },
  {
   "cell_type": "code",
   "execution_count": 34,
   "id": "306872b8",
   "metadata": {},
   "outputs": [],
   "source": [
    "df_O.to_csv(\"errors_O\", sep = '\\t')"
   ]
  },
  {
   "cell_type": "markdown",
   "id": "c92acf7e",
   "metadata": {},
   "source": [
    "Continue with \"I-CONTENT\" category:"
   ]
  },
  {
   "cell_type": "code",
   "execution_count": 35,
   "id": "935c46ed",
   "metadata": {},
   "outputs": [],
   "source": [
    "df_ICONTENT = df_error.loc[df_error['Pred_label'] == \"I-CONTENT\"]"
   ]
  },
  {
   "cell_type": "code",
   "execution_count": 36,
   "id": "ee788346",
   "metadata": {},
   "outputs": [],
   "source": [
    "df_ICONTENT = df_ICONTENT.sort_values(by=['Gold_label'])"
   ]
  },
  {
   "cell_type": "code",
   "execution_count": 37,
   "id": "6e3f2b93",
   "metadata": {},
   "outputs": [
    {
     "data": {
      "text/plain": [
       "O            6694\n",
       "I-SOURCE      413\n",
       "B-CONTENT     390\n",
       "I-CUE         316\n",
       "B-CUE         297\n",
       "B-SOURCE      230\n",
       "Name: Gold_label, dtype: int64"
      ]
     },
     "execution_count": 37,
     "metadata": {},
     "output_type": "execute_result"
    }
   ],
   "source": [
    "df_ICONTENT['Gold_label'].value_counts()"
   ]
  },
  {
   "cell_type": "code",
   "execution_count": 38,
   "id": "90aa6d37",
   "metadata": {},
   "outputs": [
    {
     "data": {
      "text/html": [
       "<div>\n",
       "<style scoped>\n",
       "    .dataframe tbody tr th:only-of-type {\n",
       "        vertical-align: middle;\n",
       "    }\n",
       "\n",
       "    .dataframe tbody tr th {\n",
       "        vertical-align: top;\n",
       "    }\n",
       "\n",
       "    .dataframe thead th {\n",
       "        text-align: right;\n",
       "    }\n",
       "</style>\n",
       "<table border=\"1\" class=\"dataframe\">\n",
       "  <thead>\n",
       "    <tr style=\"text-align: right;\">\n",
       "      <th></th>\n",
       "      <th>Gold_word</th>\n",
       "      <th>Gold_label</th>\n",
       "      <th>Pred_label</th>\n",
       "    </tr>\n",
       "  </thead>\n",
       "  <tbody>\n",
       "    <tr>\n",
       "      <th>115624</th>\n",
       "      <td>to</td>\n",
       "      <td>B-CONTENT</td>\n",
       "      <td>I-CONTENT</td>\n",
       "    </tr>\n",
       "    <tr>\n",
       "      <th>14442</th>\n",
       "      <td>that</td>\n",
       "      <td>B-CONTENT</td>\n",
       "      <td>I-CONTENT</td>\n",
       "    </tr>\n",
       "    <tr>\n",
       "      <th>14473</th>\n",
       "      <td>trump</td>\n",
       "      <td>B-CONTENT</td>\n",
       "      <td>I-CONTENT</td>\n",
       "    </tr>\n",
       "    <tr>\n",
       "      <th>15008</th>\n",
       "      <td>donald</td>\n",
       "      <td>B-CONTENT</td>\n",
       "      <td>I-CONTENT</td>\n",
       "    </tr>\n",
       "    <tr>\n",
       "      <th>55491</th>\n",
       "      <td>connections</td>\n",
       "      <td>B-CONTENT</td>\n",
       "      <td>I-CONTENT</td>\n",
       "    </tr>\n",
       "    <tr>\n",
       "      <th>...</th>\n",
       "      <td>...</td>\n",
       "      <td>...</td>\n",
       "      <td>...</td>\n",
       "    </tr>\n",
       "    <tr>\n",
       "      <th>42046</th>\n",
       "      <td>exemplified</td>\n",
       "      <td>O</td>\n",
       "      <td>I-CONTENT</td>\n",
       "    </tr>\n",
       "    <tr>\n",
       "      <th>42045</th>\n",
       "      <td>is</td>\n",
       "      <td>O</td>\n",
       "      <td>I-CONTENT</td>\n",
       "    </tr>\n",
       "    <tr>\n",
       "      <th>42044</th>\n",
       "      <td>transparency</td>\n",
       "      <td>O</td>\n",
       "      <td>I-CONTENT</td>\n",
       "    </tr>\n",
       "    <tr>\n",
       "      <th>42371</th>\n",
       "      <td>has</td>\n",
       "      <td>O</td>\n",
       "      <td>I-CONTENT</td>\n",
       "    </tr>\n",
       "    <tr>\n",
       "      <th>55580</th>\n",
       "      <td>when</td>\n",
       "      <td>O</td>\n",
       "      <td>I-CONTENT</td>\n",
       "    </tr>\n",
       "  </tbody>\n",
       "</table>\n",
       "<p>8340 rows × 3 columns</p>\n",
       "</div>"
      ],
      "text/plain": [
       "           Gold_word Gold_label Pred_label\n",
       "115624            to  B-CONTENT  I-CONTENT\n",
       "14442           that  B-CONTENT  I-CONTENT\n",
       "14473          trump  B-CONTENT  I-CONTENT\n",
       "15008         donald  B-CONTENT  I-CONTENT\n",
       "55491    connections  B-CONTENT  I-CONTENT\n",
       "...              ...        ...        ...\n",
       "42046    exemplified          O  I-CONTENT\n",
       "42045             is          O  I-CONTENT\n",
       "42044   transparency          O  I-CONTENT\n",
       "42371            has          O  I-CONTENT\n",
       "55580           when          O  I-CONTENT\n",
       "\n",
       "[8340 rows x 3 columns]"
      ]
     },
     "execution_count": 38,
     "metadata": {},
     "output_type": "execute_result"
    }
   ],
   "source": [
    "df_ICONTENT"
   ]
  },
  {
   "cell_type": "code",
   "execution_count": 39,
   "id": "f511fc3c",
   "metadata": {},
   "outputs": [],
   "source": [
    "df_ICONTENT.to_csv(\"errors_ICONTENT\", sep = '\\t')"
   ]
  },
  {
   "cell_type": "markdown",
   "id": "df748634",
   "metadata": {},
   "source": [
    "Continue with \"B-CONTENT\" category:"
   ]
  },
  {
   "cell_type": "code",
   "execution_count": 40,
   "id": "cb5a2a1d",
   "metadata": {},
   "outputs": [],
   "source": [
    "df_BCONTENT = df_error.loc[df_error['Pred_label'] == \"B-CONTENT\"]"
   ]
  },
  {
   "cell_type": "code",
   "execution_count": 41,
   "id": "44f3e4e9",
   "metadata": {},
   "outputs": [],
   "source": [
    "df_BCONTENT = df_BCONTENT.sort_values(by=['Gold_label'])"
   ]
  },
  {
   "cell_type": "code",
   "execution_count": 42,
   "id": "fb1b6c91",
   "metadata": {},
   "outputs": [
    {
     "data": {
      "text/plain": [
       "I-CONTENT    301\n",
       "O            218\n",
       "B-SOURCE      31\n",
       "I-CUE         31\n",
       "I-SOURCE       7\n",
       "B-CUE          1\n",
       "Name: Gold_label, dtype: int64"
      ]
     },
     "execution_count": 42,
     "metadata": {},
     "output_type": "execute_result"
    }
   ],
   "source": [
    "df_BCONTENT['Gold_label'].value_counts()"
   ]
  },
  {
   "cell_type": "code",
   "execution_count": 43,
   "id": "1c19f258",
   "metadata": {},
   "outputs": [
    {
     "data": {
      "text/html": [
       "<div>\n",
       "<style scoped>\n",
       "    .dataframe tbody tr th:only-of-type {\n",
       "        vertical-align: middle;\n",
       "    }\n",
       "\n",
       "    .dataframe tbody tr th {\n",
       "        vertical-align: top;\n",
       "    }\n",
       "\n",
       "    .dataframe thead th {\n",
       "        text-align: right;\n",
       "    }\n",
       "</style>\n",
       "<table border=\"1\" class=\"dataframe\">\n",
       "  <thead>\n",
       "    <tr style=\"text-align: right;\">\n",
       "      <th></th>\n",
       "      <th>Gold_word</th>\n",
       "      <th>Gold_label</th>\n",
       "      <th>Pred_label</th>\n",
       "    </tr>\n",
       "  </thead>\n",
       "  <tbody>\n",
       "    <tr>\n",
       "      <th>100236</th>\n",
       "      <td>to</td>\n",
       "      <td>B-CUE</td>\n",
       "      <td>B-CONTENT</td>\n",
       "    </tr>\n",
       "    <tr>\n",
       "      <th>55466</th>\n",
       "      <td>obama</td>\n",
       "      <td>B-SOURCE</td>\n",
       "      <td>B-CONTENT</td>\n",
       "    </tr>\n",
       "    <tr>\n",
       "      <th>25275</th>\n",
       "      <td>mrs.</td>\n",
       "      <td>B-SOURCE</td>\n",
       "      <td>B-CONTENT</td>\n",
       "    </tr>\n",
       "    <tr>\n",
       "      <th>55390</th>\n",
       "      <td>obama</td>\n",
       "      <td>B-SOURCE</td>\n",
       "      <td>B-CONTENT</td>\n",
       "    </tr>\n",
       "    <tr>\n",
       "      <th>73923</th>\n",
       "      <td>republican</td>\n",
       "      <td>B-SOURCE</td>\n",
       "      <td>B-CONTENT</td>\n",
       "    </tr>\n",
       "    <tr>\n",
       "      <th>...</th>\n",
       "      <td>...</td>\n",
       "      <td>...</td>\n",
       "      <td>...</td>\n",
       "    </tr>\n",
       "    <tr>\n",
       "      <th>45454</th>\n",
       "      <td>msnbc</td>\n",
       "      <td>O</td>\n",
       "      <td>B-CONTENT</td>\n",
       "    </tr>\n",
       "    <tr>\n",
       "      <th>74325</th>\n",
       "      <td>to</td>\n",
       "      <td>O</td>\n",
       "      <td>B-CONTENT</td>\n",
       "    </tr>\n",
       "    <tr>\n",
       "      <th>25311</th>\n",
       "      <td>by</td>\n",
       "      <td>O</td>\n",
       "      <td>B-CONTENT</td>\n",
       "    </tr>\n",
       "    <tr>\n",
       "      <th>6661</th>\n",
       "      <td>``</td>\n",
       "      <td>O</td>\n",
       "      <td>B-CONTENT</td>\n",
       "    </tr>\n",
       "    <tr>\n",
       "      <th>34272</th>\n",
       "      <td>mexico</td>\n",
       "      <td>O</td>\n",
       "      <td>B-CONTENT</td>\n",
       "    </tr>\n",
       "  </tbody>\n",
       "</table>\n",
       "<p>589 rows × 3 columns</p>\n",
       "</div>"
      ],
      "text/plain": [
       "         Gold_word Gold_label Pred_label\n",
       "100236          to      B-CUE  B-CONTENT\n",
       "55466        obama   B-SOURCE  B-CONTENT\n",
       "25275         mrs.   B-SOURCE  B-CONTENT\n",
       "55390        obama   B-SOURCE  B-CONTENT\n",
       "73923   republican   B-SOURCE  B-CONTENT\n",
       "...            ...        ...        ...\n",
       "45454        msnbc          O  B-CONTENT\n",
       "74325           to          O  B-CONTENT\n",
       "25311           by          O  B-CONTENT\n",
       "6661            ``          O  B-CONTENT\n",
       "34272       mexico          O  B-CONTENT\n",
       "\n",
       "[589 rows x 3 columns]"
      ]
     },
     "execution_count": 43,
     "metadata": {},
     "output_type": "execute_result"
    }
   ],
   "source": [
    "df_BCONTENT"
   ]
  },
  {
   "cell_type": "code",
   "execution_count": 44,
   "id": "f288dca1",
   "metadata": {},
   "outputs": [],
   "source": [
    "df_BCONTENT.to_csv(\"errors_BCONTENT\", sep = '\\t')"
   ]
  },
  {
   "cell_type": "markdown",
   "id": "5f3f488f",
   "metadata": {},
   "source": [
    "Continue with \"I-CUE\" category:"
   ]
  },
  {
   "cell_type": "code",
   "execution_count": 45,
   "id": "1b349dfc",
   "metadata": {},
   "outputs": [],
   "source": [
    "df_ICUE= df_error.loc[df_error['Pred_label'] == \"I-CUE\"]"
   ]
  },
  {
   "cell_type": "code",
   "execution_count": 46,
   "id": "ae1c248e",
   "metadata": {},
   "outputs": [],
   "source": [
    "df_ICUE = df_ICUE.sort_values(by=['Gold_label'])"
   ]
  },
  {
   "cell_type": "code",
   "execution_count": 47,
   "id": "4b200aa7",
   "metadata": {},
   "outputs": [
    {
     "data": {
      "text/plain": [
       "I-CONTENT    152\n",
       "O            120\n",
       "B-CONTENT     52\n",
       "B-CUE         19\n",
       "I-SOURCE      14\n",
       "B-SOURCE       1\n",
       "Name: Gold_label, dtype: int64"
      ]
     },
     "execution_count": 47,
     "metadata": {},
     "output_type": "execute_result"
    }
   ],
   "source": [
    "df_ICUE['Gold_label'].value_counts()"
   ]
  },
  {
   "cell_type": "code",
   "execution_count": 48,
   "id": "5f36cfff",
   "metadata": {},
   "outputs": [
    {
     "data": {
      "text/html": [
       "<div>\n",
       "<style scoped>\n",
       "    .dataframe tbody tr th:only-of-type {\n",
       "        vertical-align: middle;\n",
       "    }\n",
       "\n",
       "    .dataframe tbody tr th {\n",
       "        vertical-align: top;\n",
       "    }\n",
       "\n",
       "    .dataframe thead th {\n",
       "        text-align: right;\n",
       "    }\n",
       "</style>\n",
       "<table border=\"1\" class=\"dataframe\">\n",
       "  <thead>\n",
       "    <tr style=\"text-align: right;\">\n",
       "      <th></th>\n",
       "      <th>Gold_word</th>\n",
       "      <th>Gold_label</th>\n",
       "      <th>Pred_label</th>\n",
       "    </tr>\n",
       "  </thead>\n",
       "  <tbody>\n",
       "    <tr>\n",
       "      <th>60258</th>\n",
       "      <td>about</td>\n",
       "      <td>B-CONTENT</td>\n",
       "      <td>I-CUE</td>\n",
       "    </tr>\n",
       "    <tr>\n",
       "      <th>48073</th>\n",
       "      <td>no</td>\n",
       "      <td>B-CONTENT</td>\n",
       "      <td>I-CUE</td>\n",
       "    </tr>\n",
       "    <tr>\n",
       "      <th>4753</th>\n",
       "      <td>fbi</td>\n",
       "      <td>B-CONTENT</td>\n",
       "      <td>I-CUE</td>\n",
       "    </tr>\n",
       "    <tr>\n",
       "      <th>29777</th>\n",
       "      <td>not</td>\n",
       "      <td>B-CONTENT</td>\n",
       "      <td>I-CUE</td>\n",
       "    </tr>\n",
       "    <tr>\n",
       "      <th>4775</th>\n",
       "      <td>policies</td>\n",
       "      <td>B-CONTENT</td>\n",
       "      <td>I-CUE</td>\n",
       "    </tr>\n",
       "    <tr>\n",
       "      <th>...</th>\n",
       "      <td>...</td>\n",
       "      <td>...</td>\n",
       "      <td>...</td>\n",
       "    </tr>\n",
       "    <tr>\n",
       "      <th>34891</th>\n",
       "      <td>about</td>\n",
       "      <td>O</td>\n",
       "      <td>I-CUE</td>\n",
       "    </tr>\n",
       "    <tr>\n",
       "      <th>34890</th>\n",
       "      <td>worried</td>\n",
       "      <td>O</td>\n",
       "      <td>I-CUE</td>\n",
       "    </tr>\n",
       "    <tr>\n",
       "      <th>34889</th>\n",
       "      <td>be</td>\n",
       "      <td>O</td>\n",
       "      <td>I-CUE</td>\n",
       "    </tr>\n",
       "    <tr>\n",
       "      <th>63516</th>\n",
       "      <td>conference</td>\n",
       "      <td>O</td>\n",
       "      <td>I-CUE</td>\n",
       "    </tr>\n",
       "    <tr>\n",
       "      <th>115059</th>\n",
       "      <td>of</td>\n",
       "      <td>O</td>\n",
       "      <td>I-CUE</td>\n",
       "    </tr>\n",
       "  </tbody>\n",
       "</table>\n",
       "<p>358 rows × 3 columns</p>\n",
       "</div>"
      ],
      "text/plain": [
       "         Gold_word Gold_label Pred_label\n",
       "60258        about  B-CONTENT      I-CUE\n",
       "48073           no  B-CONTENT      I-CUE\n",
       "4753           fbi  B-CONTENT      I-CUE\n",
       "29777          not  B-CONTENT      I-CUE\n",
       "4775      policies  B-CONTENT      I-CUE\n",
       "...            ...        ...        ...\n",
       "34891        about          O      I-CUE\n",
       "34890      worried          O      I-CUE\n",
       "34889           be          O      I-CUE\n",
       "63516   conference          O      I-CUE\n",
       "115059          of          O      I-CUE\n",
       "\n",
       "[358 rows x 3 columns]"
      ]
     },
     "execution_count": 48,
     "metadata": {},
     "output_type": "execute_result"
    }
   ],
   "source": [
    "df_ICUE"
   ]
  },
  {
   "cell_type": "code",
   "execution_count": 49,
   "id": "241bc790",
   "metadata": {},
   "outputs": [],
   "source": [
    "df_ICUE.to_csv(\"errors_ICUE\", sep = '\\t')"
   ]
  },
  {
   "cell_type": "markdown",
   "id": "741ef94f",
   "metadata": {},
   "source": [
    "Continue with \"B-CUE\" category:"
   ]
  },
  {
   "cell_type": "code",
   "execution_count": 50,
   "id": "b5781201",
   "metadata": {},
   "outputs": [],
   "source": [
    "df_BCUE= df_error.loc[df_error['Pred_label'] == \"B-CUE\"]"
   ]
  },
  {
   "cell_type": "code",
   "execution_count": 51,
   "id": "b727120f",
   "metadata": {},
   "outputs": [],
   "source": [
    "df_BCUE = df_BCUE.sort_values(by=['Gold_label'])"
   ]
  },
  {
   "cell_type": "code",
   "execution_count": 52,
   "id": "ebe8ff16",
   "metadata": {},
   "outputs": [
    {
     "data": {
      "text/plain": [
       "I-CONTENT    111\n",
       "O             84\n",
       "I-CUE         34\n",
       "I-SOURCE      14\n",
       "B-SOURCE       5\n",
       "B-CONTENT      1\n",
       "Name: Gold_label, dtype: int64"
      ]
     },
     "execution_count": 52,
     "metadata": {},
     "output_type": "execute_result"
    }
   ],
   "source": [
    "df_BCUE['Gold_label'].value_counts()"
   ]
  },
  {
   "cell_type": "code",
   "execution_count": 53,
   "id": "1cec873e",
   "metadata": {},
   "outputs": [
    {
     "data": {
      "text/html": [
       "<div>\n",
       "<style scoped>\n",
       "    .dataframe tbody tr th:only-of-type {\n",
       "        vertical-align: middle;\n",
       "    }\n",
       "\n",
       "    .dataframe tbody tr th {\n",
       "        vertical-align: top;\n",
       "    }\n",
       "\n",
       "    .dataframe thead th {\n",
       "        text-align: right;\n",
       "    }\n",
       "</style>\n",
       "<table border=\"1\" class=\"dataframe\">\n",
       "  <thead>\n",
       "    <tr style=\"text-align: right;\">\n",
       "      <th></th>\n",
       "      <th>Gold_word</th>\n",
       "      <th>Gold_label</th>\n",
       "      <th>Pred_label</th>\n",
       "    </tr>\n",
       "  </thead>\n",
       "  <tbody>\n",
       "    <tr>\n",
       "      <th>49776</th>\n",
       "      <td>to</td>\n",
       "      <td>B-CONTENT</td>\n",
       "      <td>B-CUE</td>\n",
       "    </tr>\n",
       "    <tr>\n",
       "      <th>88239</th>\n",
       "      <td>people</td>\n",
       "      <td>B-SOURCE</td>\n",
       "      <td>B-CUE</td>\n",
       "    </tr>\n",
       "    <tr>\n",
       "      <th>67863</th>\n",
       "      <td>according</td>\n",
       "      <td>B-SOURCE</td>\n",
       "      <td>B-CUE</td>\n",
       "    </tr>\n",
       "    <tr>\n",
       "      <th>14569</th>\n",
       "      <td>said</td>\n",
       "      <td>B-SOURCE</td>\n",
       "      <td>B-CUE</td>\n",
       "    </tr>\n",
       "    <tr>\n",
       "      <th>19242</th>\n",
       "      <td>said</td>\n",
       "      <td>B-SOURCE</td>\n",
       "      <td>B-CUE</td>\n",
       "    </tr>\n",
       "    <tr>\n",
       "      <th>...</th>\n",
       "      <td>...</td>\n",
       "      <td>...</td>\n",
       "      <td>...</td>\n",
       "    </tr>\n",
       "    <tr>\n",
       "      <th>45064</th>\n",
       "      <td>seemed</td>\n",
       "      <td>O</td>\n",
       "      <td>B-CUE</td>\n",
       "    </tr>\n",
       "    <tr>\n",
       "      <th>44341</th>\n",
       "      <td>promoting</td>\n",
       "      <td>O</td>\n",
       "      <td>B-CUE</td>\n",
       "    </tr>\n",
       "    <tr>\n",
       "      <th>44084</th>\n",
       "      <td>are</td>\n",
       "      <td>O</td>\n",
       "      <td>B-CUE</td>\n",
       "    </tr>\n",
       "    <tr>\n",
       "      <th>71213</th>\n",
       "      <td>unloaded</td>\n",
       "      <td>O</td>\n",
       "      <td>B-CUE</td>\n",
       "    </tr>\n",
       "    <tr>\n",
       "      <th>115603</th>\n",
       "      <td>:</td>\n",
       "      <td>O</td>\n",
       "      <td>B-CUE</td>\n",
       "    </tr>\n",
       "  </tbody>\n",
       "</table>\n",
       "<p>249 rows × 3 columns</p>\n",
       "</div>"
      ],
      "text/plain": [
       "        Gold_word Gold_label Pred_label\n",
       "49776          to  B-CONTENT      B-CUE\n",
       "88239      people   B-SOURCE      B-CUE\n",
       "67863   according   B-SOURCE      B-CUE\n",
       "14569        said   B-SOURCE      B-CUE\n",
       "19242        said   B-SOURCE      B-CUE\n",
       "...           ...        ...        ...\n",
       "45064      seemed          O      B-CUE\n",
       "44341   promoting          O      B-CUE\n",
       "44084         are          O      B-CUE\n",
       "71213    unloaded          O      B-CUE\n",
       "115603          :          O      B-CUE\n",
       "\n",
       "[249 rows x 3 columns]"
      ]
     },
     "execution_count": 53,
     "metadata": {},
     "output_type": "execute_result"
    }
   ],
   "source": [
    "df_BCUE"
   ]
  },
  {
   "cell_type": "code",
   "execution_count": 54,
   "id": "e5838619",
   "metadata": {},
   "outputs": [],
   "source": [
    "df_BCUE.to_csv(\"errors_BCUE\", sep = '\\t')"
   ]
  },
  {
   "cell_type": "markdown",
   "id": "6e77c539",
   "metadata": {},
   "source": [
    "Continue with \"I-SOURCE\" category:"
   ]
  },
  {
   "cell_type": "code",
   "execution_count": 55,
   "id": "66b9b98c",
   "metadata": {},
   "outputs": [],
   "source": [
    "df_ISOURCE = df_error.loc[df_error['Pred_label'] == \"I-SOURCE\"]\n",
    "df_ISOURCE = df_ISOURCE.sort_values(by=['Gold_label'])"
   ]
  },
  {
   "cell_type": "code",
   "execution_count": 56,
   "id": "6398bfb7",
   "metadata": {},
   "outputs": [
    {
     "data": {
      "text/plain": [
       "O            768\n",
       "I-CONTENT    247\n",
       "I-CUE         51\n",
       "B-SOURCE      40\n",
       "B-CUE         38\n",
       "B-CONTENT     30\n",
       "Name: Gold_label, dtype: int64"
      ]
     },
     "execution_count": 56,
     "metadata": {},
     "output_type": "execute_result"
    }
   ],
   "source": [
    "df_ISOURCE['Gold_label'].value_counts()"
   ]
  },
  {
   "cell_type": "code",
   "execution_count": 57,
   "id": "bbbb16b8",
   "metadata": {},
   "outputs": [
    {
     "data": {
      "text/html": [
       "<div>\n",
       "<style scoped>\n",
       "    .dataframe tbody tr th:only-of-type {\n",
       "        vertical-align: middle;\n",
       "    }\n",
       "\n",
       "    .dataframe tbody tr th {\n",
       "        vertical-align: top;\n",
       "    }\n",
       "\n",
       "    .dataframe thead th {\n",
       "        text-align: right;\n",
       "    }\n",
       "</style>\n",
       "<table border=\"1\" class=\"dataframe\">\n",
       "  <thead>\n",
       "    <tr style=\"text-align: right;\">\n",
       "      <th></th>\n",
       "      <th>Gold_word</th>\n",
       "      <th>Gold_label</th>\n",
       "      <th>Pred_label</th>\n",
       "    </tr>\n",
       "  </thead>\n",
       "  <tbody>\n",
       "    <tr>\n",
       "      <th>9654</th>\n",
       "      <td>the</td>\n",
       "      <td>B-CONTENT</td>\n",
       "      <td>I-SOURCE</td>\n",
       "    </tr>\n",
       "    <tr>\n",
       "      <th>109689</th>\n",
       "      <td>the</td>\n",
       "      <td>B-CONTENT</td>\n",
       "      <td>I-SOURCE</td>\n",
       "    </tr>\n",
       "    <tr>\n",
       "      <th>52440</th>\n",
       "      <td>an</td>\n",
       "      <td>B-CONTENT</td>\n",
       "      <td>I-SOURCE</td>\n",
       "    </tr>\n",
       "    <tr>\n",
       "      <th>52708</th>\n",
       "      <td>it</td>\n",
       "      <td>B-CONTENT</td>\n",
       "      <td>I-SOURCE</td>\n",
       "    </tr>\n",
       "    <tr>\n",
       "      <th>15824</th>\n",
       "      <td>``</td>\n",
       "      <td>B-CONTENT</td>\n",
       "      <td>I-SOURCE</td>\n",
       "    </tr>\n",
       "    <tr>\n",
       "      <th>...</th>\n",
       "      <td>...</td>\n",
       "      <td>...</td>\n",
       "      <td>...</td>\n",
       "    </tr>\n",
       "    <tr>\n",
       "      <th>56314</th>\n",
       "      <td>to</td>\n",
       "      <td>O</td>\n",
       "      <td>I-SOURCE</td>\n",
       "    </tr>\n",
       "    <tr>\n",
       "      <th>56315</th>\n",
       "      <td>help</td>\n",
       "      <td>O</td>\n",
       "      <td>I-SOURCE</td>\n",
       "    </tr>\n",
       "    <tr>\n",
       "      <th>56316</th>\n",
       "      <td>fund</td>\n",
       "      <td>O</td>\n",
       "      <td>I-SOURCE</td>\n",
       "    </tr>\n",
       "    <tr>\n",
       "      <th>56306</th>\n",
       "      <td>forces</td>\n",
       "      <td>O</td>\n",
       "      <td>I-SOURCE</td>\n",
       "    </tr>\n",
       "    <tr>\n",
       "      <th>113988</th>\n",
       "      <td>reedy</td>\n",
       "      <td>O</td>\n",
       "      <td>I-SOURCE</td>\n",
       "    </tr>\n",
       "  </tbody>\n",
       "</table>\n",
       "<p>1174 rows × 3 columns</p>\n",
       "</div>"
      ],
      "text/plain": [
       "       Gold_word Gold_label Pred_label\n",
       "9654         the  B-CONTENT   I-SOURCE\n",
       "109689       the  B-CONTENT   I-SOURCE\n",
       "52440         an  B-CONTENT   I-SOURCE\n",
       "52708         it  B-CONTENT   I-SOURCE\n",
       "15824         ``  B-CONTENT   I-SOURCE\n",
       "...          ...        ...        ...\n",
       "56314         to          O   I-SOURCE\n",
       "56315       help          O   I-SOURCE\n",
       "56316       fund          O   I-SOURCE\n",
       "56306     forces          O   I-SOURCE\n",
       "113988     reedy          O   I-SOURCE\n",
       "\n",
       "[1174 rows x 3 columns]"
      ]
     },
     "execution_count": 57,
     "metadata": {},
     "output_type": "execute_result"
    }
   ],
   "source": [
    "df_ISOURCE"
   ]
  },
  {
   "cell_type": "code",
   "execution_count": 58,
   "id": "50520252",
   "metadata": {},
   "outputs": [],
   "source": [
    "df_ISOURCE.to_csv(\"errors_ISOURCE\", sep = '\\t')"
   ]
  },
  {
   "cell_type": "markdown",
   "id": "6a553a06",
   "metadata": {},
   "source": [
    "Continue with \"B-SOURCE\" category:"
   ]
  },
  {
   "cell_type": "code",
   "execution_count": 59,
   "id": "ae72f2ea",
   "metadata": {},
   "outputs": [],
   "source": [
    "df_BSOURCE= df_error.loc[df_error['Pred_label'] == \"B-SOURCE\"]\n",
    "\n",
    "df_BSOURCE = df_BSOURCE.sort_values(by=['Gold_label'])"
   ]
  },
  {
   "cell_type": "code",
   "execution_count": 60,
   "id": "47e32c95",
   "metadata": {},
   "outputs": [
    {
     "data": {
      "text/plain": [
       "O            119\n",
       "I-CONTENT     67\n",
       "I-SOURCE      56\n",
       "B-CONTENT     50\n",
       "B-CUE          4\n",
       "I-CUE          3\n",
       "Name: Gold_label, dtype: int64"
      ]
     },
     "execution_count": 60,
     "metadata": {},
     "output_type": "execute_result"
    }
   ],
   "source": [
    "df_BSOURCE['Gold_label'].value_counts()"
   ]
  },
  {
   "cell_type": "code",
   "execution_count": 61,
   "id": "d4163b2c",
   "metadata": {},
   "outputs": [
    {
     "data": {
      "text/html": [
       "<div>\n",
       "<style scoped>\n",
       "    .dataframe tbody tr th:only-of-type {\n",
       "        vertical-align: middle;\n",
       "    }\n",
       "\n",
       "    .dataframe tbody tr th {\n",
       "        vertical-align: top;\n",
       "    }\n",
       "\n",
       "    .dataframe thead th {\n",
       "        text-align: right;\n",
       "    }\n",
       "</style>\n",
       "<table border=\"1\" class=\"dataframe\">\n",
       "  <thead>\n",
       "    <tr style=\"text-align: right;\">\n",
       "      <th></th>\n",
       "      <th>Gold_word</th>\n",
       "      <th>Gold_label</th>\n",
       "      <th>Pred_label</th>\n",
       "    </tr>\n",
       "  </thead>\n",
       "  <tbody>\n",
       "    <tr>\n",
       "      <th>208</th>\n",
       "      <td>clinton</td>\n",
       "      <td>B-CONTENT</td>\n",
       "      <td>B-SOURCE</td>\n",
       "    </tr>\n",
       "    <tr>\n",
       "      <th>49283</th>\n",
       "      <td>he</td>\n",
       "      <td>B-CONTENT</td>\n",
       "      <td>B-SOURCE</td>\n",
       "    </tr>\n",
       "    <tr>\n",
       "      <th>48206</th>\n",
       "      <td>they</td>\n",
       "      <td>B-CONTENT</td>\n",
       "      <td>B-SOURCE</td>\n",
       "    </tr>\n",
       "    <tr>\n",
       "      <th>42895</th>\n",
       "      <td>he</td>\n",
       "      <td>B-CONTENT</td>\n",
       "      <td>B-SOURCE</td>\n",
       "    </tr>\n",
       "    <tr>\n",
       "      <th>41676</th>\n",
       "      <td>which</td>\n",
       "      <td>B-CONTENT</td>\n",
       "      <td>B-SOURCE</td>\n",
       "    </tr>\n",
       "    <tr>\n",
       "      <th>...</th>\n",
       "      <td>...</td>\n",
       "      <td>...</td>\n",
       "      <td>...</td>\n",
       "    </tr>\n",
       "    <tr>\n",
       "      <th>61041</th>\n",
       "      <td>the</td>\n",
       "      <td>O</td>\n",
       "      <td>B-SOURCE</td>\n",
       "    </tr>\n",
       "    <tr>\n",
       "      <th>28962</th>\n",
       "      <td>my</td>\n",
       "      <td>O</td>\n",
       "      <td>B-SOURCE</td>\n",
       "    </tr>\n",
       "    <tr>\n",
       "      <th>59540</th>\n",
       "      <td>my</td>\n",
       "      <td>O</td>\n",
       "      <td>B-SOURCE</td>\n",
       "    </tr>\n",
       "    <tr>\n",
       "      <th>24850</th>\n",
       "      <td>it</td>\n",
       "      <td>O</td>\n",
       "      <td>B-SOURCE</td>\n",
       "    </tr>\n",
       "    <tr>\n",
       "      <th>11946</th>\n",
       "      <td>the</td>\n",
       "      <td>O</td>\n",
       "      <td>B-SOURCE</td>\n",
       "    </tr>\n",
       "  </tbody>\n",
       "</table>\n",
       "<p>299 rows × 3 columns</p>\n",
       "</div>"
      ],
      "text/plain": [
       "      Gold_word Gold_label Pred_label\n",
       "208     clinton  B-CONTENT   B-SOURCE\n",
       "49283        he  B-CONTENT   B-SOURCE\n",
       "48206      they  B-CONTENT   B-SOURCE\n",
       "42895        he  B-CONTENT   B-SOURCE\n",
       "41676     which  B-CONTENT   B-SOURCE\n",
       "...         ...        ...        ...\n",
       "61041       the          O   B-SOURCE\n",
       "28962        my          O   B-SOURCE\n",
       "59540        my          O   B-SOURCE\n",
       "24850        it          O   B-SOURCE\n",
       "11946       the          O   B-SOURCE\n",
       "\n",
       "[299 rows x 3 columns]"
      ]
     },
     "execution_count": 61,
     "metadata": {},
     "output_type": "execute_result"
    }
   ],
   "source": [
    "df_BSOURCE"
   ]
  },
  {
   "cell_type": "code",
   "execution_count": 62,
   "id": "e13205c1",
   "metadata": {},
   "outputs": [],
   "source": [
    "df_BSOURCE.to_csv(\"errors_BSOURCE\", sep = '\\t')"
   ]
  },
  {
   "cell_type": "markdown",
   "id": "ab8baf94",
   "metadata": {},
   "source": [
    "End of the notebook."
   ]
  },
  {
   "cell_type": "code",
   "execution_count": null,
   "id": "ab3f0765",
   "metadata": {},
   "outputs": [],
   "source": []
  }
 ],
 "metadata": {
  "kernelspec": {
   "display_name": "Python 3",
   "language": "python",
   "name": "python3"
  },
  "language_info": {
   "codemirror_mode": {
    "name": "ipython",
    "version": 3
   },
   "file_extension": ".py",
   "mimetype": "text/x-python",
   "name": "python",
   "nbconvert_exporter": "python",
   "pygments_lexer": "ipython3",
   "version": "3.8.8"
  }
 },
 "nbformat": 4,
 "nbformat_minor": 5
}
